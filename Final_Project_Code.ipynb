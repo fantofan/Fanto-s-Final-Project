{
  "nbformat": 4,
  "nbformat_minor": 0,
  "metadata": {
    "colab": {
      "provenance": [],
      "authorship_tag": "ABX9TyNS9KlNTEw+eaCJn4+s6y5b",
      "include_colab_link": true
    },
    "kernelspec": {
      "name": "python3",
      "display_name": "Python 3"
    },
    "language_info": {
      "name": "python"
    }
  },
  "cells": [
    {
      "cell_type": "markdown",
      "metadata": {
        "id": "view-in-github",
        "colab_type": "text"
      },
      "source": [
        "<a href=\"https://colab.research.google.com/github/fantofan/Fanto-s-Final-Project/blob/main/Final_Project_Code.ipynb\" target=\"_parent\"><img src=\"https://colab.research.google.com/assets/colab-badge.svg\" alt=\"Open In Colab\"/></a>"
      ]
    },
    {
      "cell_type": "markdown",
      "source": [
        "# Research Question: Why Affordable Housing is not \"Affordable\" at all?"
      ],
      "metadata": {
        "id": "w5QjffDkuuDV"
      }
    },
    {
      "cell_type": "markdown",
      "source": [
        "# Introduction\n",
        "\n",
        "---\n",
        "\n",
        "\n",
        "Despite numerous policies and initiatives aimed at increasing affordable housing, a significant portion of the population do not have access to homeownership. Programs like 421a and 485x are designed to stimulate affordable housing development in New York City, yet affordability issue remains.  This project explores the disconnect between the concept of affordable housing and its practical outcomes focusing on public perceptions as shared on Reddit. Specifically, ***why does affordable housing fail to be truly “affordable” for many intended beneficiaries?*** Understanding the reasons behind will provide actionable insights for housing policy improvement.\n",
        "\n",
        "Before examining public opinion, the broader issue of affordable housing’s shortcomings has been widely studied in both media and academic contexts. In media discourse, Zaveri (2024) highlights how a scarcity of apartments, coupled with high construction costs, maintenance expenses, and profit pressures, exacerbates affordability challenges. He concludes that while public funding can make affordable housing viable, limited resources hinder its widespread availability (New York Times, 2024).  In academia, scholars have highlighted key casual metrics behind affordable housing crisis- measurement, regulatory barriers, and community acceptance (NIMBYism). One prominent issue lies in defining affordability. Traditional metrics, such as the 30% income threshold, have faced criticism for oversimplifying the problem, as they fail to account for residual income and other essential expenditures, such as transportation costs. Brooks (2023) emphasizes the need for context-sensitive metrics to better capture the nuances of affordability, particularly for low-income and ethnoracially diverse households. Regulatory barriers, especially restrictive zoning laws, are another critical factor contributing to the housing crisis. Studies have shown that these regulations limit the housing supply and exacerbate affordability issues, particularly in urban areas. Büchler and Lutz (2024) identify upzoning, or increasing allowable housing density, as a potential solution, which can significantly expand housing stock and stabilize rents over time. However, the impacts are often delayed, and implementation faces resistance from local stakeholders. Community acceptance of affordable housing also presents significant challenges. Diamond and McQuade (2016) explore the effects of subsidized housing developments like those funded by the Low-Income Housing Tax Credit (LIHTC). Their findings indicate that while such projects can revitalize low-income neighborhoods, they often face resistance in higher-income areas, where residents fear property devaluation and demographic shifts.\n",
        "\n",
        "These insights underline the complexity of the affordable housing issue and the necessity of multi-faceted, targeted approaches. However, the perspectives of the public, particularly as shared on platforms like Reddit, remain underexplored. This gap is critical, as understanding public opinion can reveal overlooked challenges and opportunities for aligning policy with community needs."
      ],
      "metadata": {
        "id": "F9CJDgpDZipq"
      }
    },
    {
      "cell_type": "markdown",
      "source": [
        "# Hypothesis\n",
        "\n",
        "---\n",
        "\n",
        "\n",
        "Based on literature review, this research hypothesizes that public perceptions on unaffordability of affordable housing is driven by multiple systemic challenges including:\n",
        "*   Vague definitions of affordable housing create a mismatch between intended policy outcomes and actual affordability for residents.\n",
        "*   High construction costs compounded by project delay inflates the final prices.\n",
        "*   A persistent financing gap between public subsidies and private investment limits developers from delivering affordable housing at scale.\n",
        "*   Supply shortages driven by high demand creates a competitive market that reduces accessibility particularly for lower-income groups.\n"
      ],
      "metadata": {
        "id": "pDLMqmyKZzWb"
      }
    },
    {
      "cell_type": "markdown",
      "source": [
        "# Methodology\n",
        "---\n",
        "Step1: Data Collection\n",
        "\n",
        "The analysis began with data collection using PRAW, a Python library for accessing Reddit. This data source captures diverse perspectives, allowing for nuanced sentiment analysis and thematic exploration.\n",
        "\n",
        "Step 2: Data Cleaning\n",
        "\n",
        "The collected comments were preprocessed through lemmatization to reduce words to their base forms and the removal of stopwords to eliminate common but uninformative words. During iterative cleaning, a custom stopword list was developed to further refine the dataset.\n",
        "\n",
        "Step 3: Text Analysis and Visualization\n",
        "\n",
        "TF-IDF, Topic Modelling and Sentiment Analysis are used in this project. First, the cleaned text underwent a term frequency analysis and TF-IDF analysis to identify the most prominent words and phrases. These methods helped highlight recurring themes and distinguish unique terms within the dataset. Second, Topic modelling using Latent Dirichlet Allocation (LDA) was conducted to extract thematic structures from the comments. The comments were also categorized into sentiment groups using sentiment analysis, which then underwent a second round of topic modeling to achieve a more nuanced understanding of the data. For Reddit, Sentiment analysis using VADER is particularly effective because it is tuned for social media text and considers aspects like negation and punctuation. Finally, the analysis focused on specific keywords, 421a and 485x, which are central to the discussion on affordable housing policy in NYC. By isolating and analyzing comments containing these terms, a clearer understanding of public opinion on these policies was achieved, shedding light on the community’s perspective regarding affordable housing issues in the city..Various Visualization methods such as word clouds, bar charts are applied for a clearer results.\n",
        "\n",
        "Note：For the codes used in this paper, outside the tutorial, I self-designed the code with the help of ChatGPT."
      ],
      "metadata": {
        "id": "iQL-mfl8aFLm"
      }
    },
    {
      "cell_type": "markdown",
      "source": [
        "# Results\n",
        "\n",
        "## 1. Data Collection\n",
        "\n",
        "I specifically focused on Subreddits within r/NYC, as they offer valuable, unfiltered insights from New York City residents. The Reddit post titled \"*AMI in NYC: Why 'Affordable Housing' Isn't So Affordable*\" was selected for analysis due to its strong relevance to the research topic. This post contains 160 comments, providing a reasonable amount of dataset for exploration. The comments were sorted based on their score (calculated as the difference between upvotes and downvotes), reflecting how well they were received by the Reddit community. Additionally, the \"Date\" field was reformatted into a more readable format to enhance data usability."
      ],
      "metadata": {
        "id": "2CI_b0bnHSsB"
      }
    },
    {
      "cell_type": "code",
      "execution_count": 3,
      "metadata": {
        "colab": {
          "base_uri": "https://localhost:8080/"
        },
        "id": "dkw6rR2MDTlx",
        "outputId": "bb9731e2-6480-4f5f-bdec-4a95a1bfe2f3",
        "collapsed": true
      },
      "outputs": [
        {
          "output_type": "stream",
          "name": "stdout",
          "text": [
            "Collecting praw\n",
            "  Downloading praw-7.8.1-py3-none-any.whl.metadata (9.4 kB)\n",
            "Collecting prawcore<3,>=2.4 (from praw)\n",
            "  Downloading prawcore-2.4.0-py3-none-any.whl.metadata (5.0 kB)\n",
            "Collecting update_checker>=0.18 (from praw)\n",
            "  Downloading update_checker-0.18.0-py3-none-any.whl.metadata (2.3 kB)\n",
            "Requirement already satisfied: websocket-client>=0.54.0 in /usr/local/lib/python3.10/dist-packages (from praw) (1.8.0)\n",
            "Requirement already satisfied: requests<3.0,>=2.6.0 in /usr/local/lib/python3.10/dist-packages (from prawcore<3,>=2.4->praw) (2.32.3)\n",
            "Requirement already satisfied: charset-normalizer<4,>=2 in /usr/local/lib/python3.10/dist-packages (from requests<3.0,>=2.6.0->prawcore<3,>=2.4->praw) (3.4.0)\n",
            "Requirement already satisfied: idna<4,>=2.5 in /usr/local/lib/python3.10/dist-packages (from requests<3.0,>=2.6.0->prawcore<3,>=2.4->praw) (3.10)\n",
            "Requirement already satisfied: urllib3<3,>=1.21.1 in /usr/local/lib/python3.10/dist-packages (from requests<3.0,>=2.6.0->prawcore<3,>=2.4->praw) (2.2.3)\n",
            "Requirement already satisfied: certifi>=2017.4.17 in /usr/local/lib/python3.10/dist-packages (from requests<3.0,>=2.6.0->prawcore<3,>=2.4->praw) (2024.8.30)\n",
            "Downloading praw-7.8.1-py3-none-any.whl (189 kB)\n",
            "\u001b[2K   \u001b[90m━━━━━━━━━━━━━━━━━━━━━━━━━━━━━━━━━━━━━━━━\u001b[0m \u001b[32m189.3/189.3 kB\u001b[0m \u001b[31m4.0 MB/s\u001b[0m eta \u001b[36m0:00:00\u001b[0m\n",
            "\u001b[?25hDownloading prawcore-2.4.0-py3-none-any.whl (17 kB)\n",
            "Downloading update_checker-0.18.0-py3-none-any.whl (7.0 kB)\n",
            "Installing collected packages: update_checker, prawcore, praw\n",
            "Successfully installed praw-7.8.1 prawcore-2.4.0 update_checker-0.18.0\n"
          ]
        }
      ],
      "source": [
        "pip install praw"
      ]
    },
    {
      "cell_type": "code",
      "source": [
        "pip install --upgrade praw"
      ],
      "metadata": {
        "colab": {
          "base_uri": "https://localhost:8080/"
        },
        "id": "-ruqzkFuDVh9",
        "outputId": "343085d7-2ac0-4a7f-ddf0-036acd7b8faf",
        "collapsed": true
      },
      "execution_count": 4,
      "outputs": [
        {
          "output_type": "stream",
          "name": "stdout",
          "text": [
            "Requirement already satisfied: praw in /usr/local/lib/python3.10/dist-packages (7.8.1)\n",
            "Requirement already satisfied: prawcore<3,>=2.4 in /usr/local/lib/python3.10/dist-packages (from praw) (2.4.0)\n",
            "Requirement already satisfied: update_checker>=0.18 in /usr/local/lib/python3.10/dist-packages (from praw) (0.18.0)\n",
            "Requirement already satisfied: websocket-client>=0.54.0 in /usr/local/lib/python3.10/dist-packages (from praw) (1.8.0)\n",
            "Requirement already satisfied: requests<3.0,>=2.6.0 in /usr/local/lib/python3.10/dist-packages (from prawcore<3,>=2.4->praw) (2.32.3)\n",
            "Requirement already satisfied: charset-normalizer<4,>=2 in /usr/local/lib/python3.10/dist-packages (from requests<3.0,>=2.6.0->prawcore<3,>=2.4->praw) (3.4.0)\n",
            "Requirement already satisfied: idna<4,>=2.5 in /usr/local/lib/python3.10/dist-packages (from requests<3.0,>=2.6.0->prawcore<3,>=2.4->praw) (3.10)\n",
            "Requirement already satisfied: urllib3<3,>=1.21.1 in /usr/local/lib/python3.10/dist-packages (from requests<3.0,>=2.6.0->prawcore<3,>=2.4->praw) (2.2.3)\n",
            "Requirement already satisfied: certifi>=2017.4.17 in /usr/local/lib/python3.10/dist-packages (from requests<3.0,>=2.6.0->prawcore<3,>=2.4->praw) (2024.8.30)\n"
          ]
        }
      ]
    },
    {
      "cell_type": "code",
      "source": [
        "import praw\n",
        "import re\n",
        "from pprint import pprint\n",
        "import pandas as pd\n",
        "from datetime import datetime\n",
        "from praw.models import Comment\n",
        "from sklearn.feature_extraction.text import TfidfVectorizer"
      ],
      "metadata": {
        "id": "lfcYmxLZDXn0"
      },
      "execution_count": 5,
      "outputs": []
    },
    {
      "cell_type": "code",
      "source": [
        "# Reddit API credentials\n",
        "reddit = praw.Reddit(\n",
        "    client_id=\"Gysdx8UtkcAJbp5Eiihnzg\",\n",
        "    client_secret=\"6gACAxr83gfNPz830tSUsBBaqVCFJg\",\n",
        "    user_agent=\"Fanto Fan Script\"\n",
        ")"
      ],
      "metadata": {
        "id": "ics60AKSDb7w"
      },
      "execution_count": 6,
      "outputs": []
    },
    {
      "cell_type": "code",
      "source": [
        "# Fetch the submission using the URL\n",
        "url = \"https://www.reddit.com/r/nyc/comments/1crrpwd/ami_in_nyc_why_affordable_housing_isnt_so/\"\n",
        "submission = reddit.submission(url=url)"
      ],
      "metadata": {
        "id": "wULrvx91DeaO"
      },
      "execution_count": 7,
      "outputs": []
    },
    {
      "cell_type": "code",
      "source": [
        "submission.comments.replace_more(limit=None)"
      ],
      "metadata": {
        "id": "Wy8sYQKWDgmO",
        "collapsed": true,
        "colab": {
          "base_uri": "https://localhost:8080/"
        },
        "outputId": "98912866-aeae-44bc-f453-d28304e5ac94"
      },
      "execution_count": 8,
      "outputs": [
        {
          "output_type": "stream",
          "name": "stderr",
          "text": [
            "WARNING:praw:It appears that you are using PRAW in an asynchronous environment.\n",
            "It is strongly recommended to use Async PRAW: https://asyncpraw.readthedocs.io.\n",
            "See https://praw.readthedocs.io/en/latest/getting_started/multiple_instances.html#discord-bots-and-asynchronous-environments for more info.\n",
            "\n",
            "WARNING:praw:It appears that you are using PRAW in an asynchronous environment.\n",
            "It is strongly recommended to use Async PRAW: https://asyncpraw.readthedocs.io.\n",
            "See https://praw.readthedocs.io/en/latest/getting_started/multiple_instances.html#discord-bots-and-asynchronous-environments for more info.\n",
            "\n",
            "WARNING:praw:It appears that you are using PRAW in an asynchronous environment.\n",
            "It is strongly recommended to use Async PRAW: https://asyncpraw.readthedocs.io.\n",
            "See https://praw.readthedocs.io/en/latest/getting_started/multiple_instances.html#discord-bots-and-asynchronous-environments for more info.\n",
            "\n"
          ]
        },
        {
          "output_type": "execute_result",
          "data": {
            "text/plain": [
              "[]"
            ]
          },
          "metadata": {},
          "execution_count": 8
        }
      ]
    },
    {
      "cell_type": "code",
      "source": [
        "# Function to get parent comment text, return None if the parent is the post itself\n",
        "def get_parent_text(comment):\n",
        "    if isinstance(comment.parent(), Comment):\n",
        "        return comment.parent().body\n",
        "    return None"
      ],
      "metadata": {
        "id": "2zkWy2c6Dj7m"
      },
      "execution_count": 9,
      "outputs": []
    },
    {
      "cell_type": "code",
      "source": [
        "# Extract comments\n",
        "comments_data = []\n",
        "for comment in submission.comments.list():\n",
        "    comments_data.append({\n",
        "        \"parent_id\": comment.id,\n",
        "        \"author\": str(comment.author),\n",
        "        \"parent_text\": comment.body,\n",
        "        \"score\": comment.score,\n",
        "        \"date\": comment.created_utc,\n",
        "    })"
      ],
      "metadata": {
        "id": "AEMk6-w7Dphb"
      },
      "execution_count": 10,
      "outputs": []
    },
    {
      "cell_type": "code",
      "source": [
        "# Convert comments into DataFrame\n",
        "comments_df = pd.DataFrame(comments_data)"
      ],
      "metadata": {
        "id": "4MAtmKRoDrnV"
      },
      "execution_count": 11,
      "outputs": []
    },
    {
      "cell_type": "code",
      "source": [
        "comments_df.to_csv(\"nyc_reddit_comments.csv\", index=False)"
      ],
      "metadata": {
        "id": "wcB6k1QfDt4d"
      },
      "execution_count": 12,
      "outputs": []
    },
    {
      "cell_type": "code",
      "source": [
        "# Show full text\n",
        "pd.set_option('display.max_colwidth', None)"
      ],
      "metadata": {
        "id": "bTikRf3EpsEu"
      },
      "execution_count": 13,
      "outputs": []
    },
    {
      "cell_type": "code",
      "source": [
        "# Show preview\n",
        "print(\"DataFrame preview:\")\n",
        "comments_df.head()"
      ],
      "metadata": {
        "id": "Hs1HGD4ObKM_",
        "colab": {
          "base_uri": "https://localhost:8080/",
          "height": 640
        },
        "outputId": "3040b401-9bd7-4012-b4ef-f80c43ce3907"
      },
      "execution_count": 14,
      "outputs": [
        {
          "output_type": "stream",
          "name": "stdout",
          "text": [
            "DataFrame preview:\n"
          ]
        },
        {
          "output_type": "execute_result",
          "data": {
            "text/plain": [
              "  parent_id                author  \\\n",
              "0   l40meoy          99hoglagoons   \n",
              "1   l3zy7ba                TarumK   \n",
              "2   l4014fm  Puzzleheaded_Will352   \n",
              "3   l41bhej          mtempissmith   \n",
              "4   l3zxa7w             citytiger   \n",
              "\n",
              "                                                                                                                                                                                                                                                                                                                                                                                                                                                                                                                                                                                                                                                                                                                                                                                                                                                                                                                                                                                                                                                                                                                                                                                                                                                                                                                                                                                   parent_text  \\\n",
              "0  Man, all these comments and not a single one even remotely relevant to the topic at hand. Are we on reddit or twitter or NYPost comment section. It doesn't matter anymore. Just shoot your load that is marginally related to the topic. \\n\\nBut basically:\\n\\n* NYC tried to create a private-public partnership with developers. 421a essentially. Massive property tax abatements in exchange for X percentage of affordable units.\\n\\n* Turns out most of the affordable units created are not affordable at all. \\n\\n* Affordability is calculated based on AMI (area median income), but HUD forces NYC to calculate the AMI based on greater NYC area, not just the city, or borough, or specific neighborhood. \\n\\n* Turns out poor people in Bronx and Queens and Brooklyn make a lot less money than people in New Rochelle, or whatever. \\n\\n* When an affordable unit is built, it is often listed as eligible for 70-110% AMI, which is completely unaffordable for anyone actually low income. \\n\\n* End result is that a lot of communities end up being stoutly against any new development, because they can see with their own eyes that none of the new stuff is actually for them. \\n\\n* The affordable housing program ended up accidentally creating a whole new type and generation of NIMBYS.\\n\\nI ad-libbed on the last two points. But this is where we are now.   \n",
              "1                                                                                                                                                                                                                                                                                                                                                                                                                                                                                                                                                                                                                                                                                                                                                                                                                                                                                                                                                                                                                                                                  Is there any realistic way housing could be affordable in NYC without a massive drop in demand? Like, if you make housing way below market rate people are just gonna stay in it forever, as happens with rent control and public housing, so it's still gonna be functionally unavailable for most people that would want.   \n",
              "2                                                                                                                                                                                                                                                                                                                                                                                                                                                                                                                                                                                                                                                                                                                                                                                                                                                                                                                                                                                                                                                                                                                                                                                                                                         Just fucking build already Jesus Christ. How many times are we going to talk about there not being enough housing before we…build some damn housing.   \n",
              "3                                              Housing Connect, the lottery site, it is a complete joke if you are not making 100K and up a year or are not at least 62. There are some breaks for truly low income seniors but otherwise not much. \\n\\nI would be still sitting in a shelter if I'd been dependent upon just those lotteries. The irony is the site still puts me in for all these lotteries I can't qualify for. I can't delete my account but it does me NO good any of it. \\n\\nThe affordable housing unit that I've got I got through another agency and though it's pretty small I'm not letting go of it anytime soon. It's a miracle that I got tapped for this place. I'm sticking with it until I hit 62 or become a best selling author whichever comes first. \\n\\nI've had 3 years of peace and quiet and relative security after years of craziness and constant upheaval. I don't take having a roof over my head for granted at all. I'm just too grateful to have one especially since I am where I am, in Manhattan, and I'm not sharing my apartment. \\n\\nThere are people paying $2800 and up for something similar here. Maybe a bit better kitchen than mine but about the same space. I don't pay anything like that. So you won't hear me complaining much...\\n\\nBut I've tried those lotteries and it was just an exercise in futility on my income...   \n",
              "4                                                                                                                                                                                                                                                                                                                                                                                                                                                                                                                                                                                                                                                                                                                                                                                                                                                                                                                                                                                                                                                                                                                                                                                                                                                                                          Our leaders like that it's unaffordable for the average person. I wish they would say it publicity.   \n",
              "\n",
              "   score          date  \n",
              "0    220  1.715702e+09  \n",
              "1     66  1.715693e+09  \n",
              "2     47  1.715694e+09  \n",
              "3      4  1.715710e+09  \n",
              "4      4  1.715693e+09  "
            ],
            "text/html": [
              "\n",
              "  <div id=\"df-34505b53-df8c-4092-80c9-9a05c6b80e90\" class=\"colab-df-container\">\n",
              "    <div>\n",
              "<style scoped>\n",
              "    .dataframe tbody tr th:only-of-type {\n",
              "        vertical-align: middle;\n",
              "    }\n",
              "\n",
              "    .dataframe tbody tr th {\n",
              "        vertical-align: top;\n",
              "    }\n",
              "\n",
              "    .dataframe thead th {\n",
              "        text-align: right;\n",
              "    }\n",
              "</style>\n",
              "<table border=\"1\" class=\"dataframe\">\n",
              "  <thead>\n",
              "    <tr style=\"text-align: right;\">\n",
              "      <th></th>\n",
              "      <th>parent_id</th>\n",
              "      <th>author</th>\n",
              "      <th>parent_text</th>\n",
              "      <th>score</th>\n",
              "      <th>date</th>\n",
              "    </tr>\n",
              "  </thead>\n",
              "  <tbody>\n",
              "    <tr>\n",
              "      <th>0</th>\n",
              "      <td>l40meoy</td>\n",
              "      <td>99hoglagoons</td>\n",
              "      <td>Man, all these comments and not a single one even remotely relevant to the topic at hand. Are we on reddit or twitter or NYPost comment section. It doesn't matter anymore. Just shoot your load that is marginally related to the topic. \\n\\nBut basically:\\n\\n* NYC tried to create a private-public partnership with developers. 421a essentially. Massive property tax abatements in exchange for X percentage of affordable units.\\n\\n* Turns out most of the affordable units created are not affordable at all. \\n\\n* Affordability is calculated based on AMI (area median income), but HUD forces NYC to calculate the AMI based on greater NYC area, not just the city, or borough, or specific neighborhood. \\n\\n* Turns out poor people in Bronx and Queens and Brooklyn make a lot less money than people in New Rochelle, or whatever. \\n\\n* When an affordable unit is built, it is often listed as eligible for 70-110% AMI, which is completely unaffordable for anyone actually low income. \\n\\n* End result is that a lot of communities end up being stoutly against any new development, because they can see with their own eyes that none of the new stuff is actually for them. \\n\\n* The affordable housing program ended up accidentally creating a whole new type and generation of NIMBYS.\\n\\nI ad-libbed on the last two points. But this is where we are now.</td>\n",
              "      <td>220</td>\n",
              "      <td>1.715702e+09</td>\n",
              "    </tr>\n",
              "    <tr>\n",
              "      <th>1</th>\n",
              "      <td>l3zy7ba</td>\n",
              "      <td>TarumK</td>\n",
              "      <td>Is there any realistic way housing could be affordable in NYC without a massive drop in demand? Like, if you make housing way below market rate people are just gonna stay in it forever, as happens with rent control and public housing, so it's still gonna be functionally unavailable for most people that would want.</td>\n",
              "      <td>66</td>\n",
              "      <td>1.715693e+09</td>\n",
              "    </tr>\n",
              "    <tr>\n",
              "      <th>2</th>\n",
              "      <td>l4014fm</td>\n",
              "      <td>Puzzleheaded_Will352</td>\n",
              "      <td>Just fucking build already Jesus Christ. How many times are we going to talk about there not being enough housing before we…build some damn housing.</td>\n",
              "      <td>47</td>\n",
              "      <td>1.715694e+09</td>\n",
              "    </tr>\n",
              "    <tr>\n",
              "      <th>3</th>\n",
              "      <td>l41bhej</td>\n",
              "      <td>mtempissmith</td>\n",
              "      <td>Housing Connect, the lottery site, it is a complete joke if you are not making 100K and up a year or are not at least 62. There are some breaks for truly low income seniors but otherwise not much. \\n\\nI would be still sitting in a shelter if I'd been dependent upon just those lotteries. The irony is the site still puts me in for all these lotteries I can't qualify for. I can't delete my account but it does me NO good any of it. \\n\\nThe affordable housing unit that I've got I got through another agency and though it's pretty small I'm not letting go of it anytime soon. It's a miracle that I got tapped for this place. I'm sticking with it until I hit 62 or become a best selling author whichever comes first. \\n\\nI've had 3 years of peace and quiet and relative security after years of craziness and constant upheaval. I don't take having a roof over my head for granted at all. I'm just too grateful to have one especially since I am where I am, in Manhattan, and I'm not sharing my apartment. \\n\\nThere are people paying $2800 and up for something similar here. Maybe a bit better kitchen than mine but about the same space. I don't pay anything like that. So you won't hear me complaining much...\\n\\nBut I've tried those lotteries and it was just an exercise in futility on my income...</td>\n",
              "      <td>4</td>\n",
              "      <td>1.715710e+09</td>\n",
              "    </tr>\n",
              "    <tr>\n",
              "      <th>4</th>\n",
              "      <td>l3zxa7w</td>\n",
              "      <td>citytiger</td>\n",
              "      <td>Our leaders like that it's unaffordable for the average person. I wish they would say it publicity.</td>\n",
              "      <td>4</td>\n",
              "      <td>1.715693e+09</td>\n",
              "    </tr>\n",
              "  </tbody>\n",
              "</table>\n",
              "</div>\n",
              "    <div class=\"colab-df-buttons\">\n",
              "\n",
              "  <div class=\"colab-df-container\">\n",
              "    <button class=\"colab-df-convert\" onclick=\"convertToInteractive('df-34505b53-df8c-4092-80c9-9a05c6b80e90')\"\n",
              "            title=\"Convert this dataframe to an interactive table.\"\n",
              "            style=\"display:none;\">\n",
              "\n",
              "  <svg xmlns=\"http://www.w3.org/2000/svg\" height=\"24px\" viewBox=\"0 -960 960 960\">\n",
              "    <path d=\"M120-120v-720h720v720H120Zm60-500h600v-160H180v160Zm220 220h160v-160H400v160Zm0 220h160v-160H400v160ZM180-400h160v-160H180v160Zm440 0h160v-160H620v160ZM180-180h160v-160H180v160Zm440 0h160v-160H620v160Z\"/>\n",
              "  </svg>\n",
              "    </button>\n",
              "\n",
              "  <style>\n",
              "    .colab-df-container {\n",
              "      display:flex;\n",
              "      gap: 12px;\n",
              "    }\n",
              "\n",
              "    .colab-df-convert {\n",
              "      background-color: #E8F0FE;\n",
              "      border: none;\n",
              "      border-radius: 50%;\n",
              "      cursor: pointer;\n",
              "      display: none;\n",
              "      fill: #1967D2;\n",
              "      height: 32px;\n",
              "      padding: 0 0 0 0;\n",
              "      width: 32px;\n",
              "    }\n",
              "\n",
              "    .colab-df-convert:hover {\n",
              "      background-color: #E2EBFA;\n",
              "      box-shadow: 0px 1px 2px rgba(60, 64, 67, 0.3), 0px 1px 3px 1px rgba(60, 64, 67, 0.15);\n",
              "      fill: #174EA6;\n",
              "    }\n",
              "\n",
              "    .colab-df-buttons div {\n",
              "      margin-bottom: 4px;\n",
              "    }\n",
              "\n",
              "    [theme=dark] .colab-df-convert {\n",
              "      background-color: #3B4455;\n",
              "      fill: #D2E3FC;\n",
              "    }\n",
              "\n",
              "    [theme=dark] .colab-df-convert:hover {\n",
              "      background-color: #434B5C;\n",
              "      box-shadow: 0px 1px 3px 1px rgba(0, 0, 0, 0.15);\n",
              "      filter: drop-shadow(0px 1px 2px rgba(0, 0, 0, 0.3));\n",
              "      fill: #FFFFFF;\n",
              "    }\n",
              "  </style>\n",
              "\n",
              "    <script>\n",
              "      const buttonEl =\n",
              "        document.querySelector('#df-34505b53-df8c-4092-80c9-9a05c6b80e90 button.colab-df-convert');\n",
              "      buttonEl.style.display =\n",
              "        google.colab.kernel.accessAllowed ? 'block' : 'none';\n",
              "\n",
              "      async function convertToInteractive(key) {\n",
              "        const element = document.querySelector('#df-34505b53-df8c-4092-80c9-9a05c6b80e90');\n",
              "        const dataTable =\n",
              "          await google.colab.kernel.invokeFunction('convertToInteractive',\n",
              "                                                    [key], {});\n",
              "        if (!dataTable) return;\n",
              "\n",
              "        const docLinkHtml = 'Like what you see? Visit the ' +\n",
              "          '<a target=\"_blank\" href=https://colab.research.google.com/notebooks/data_table.ipynb>data table notebook</a>'\n",
              "          + ' to learn more about interactive tables.';\n",
              "        element.innerHTML = '';\n",
              "        dataTable['output_type'] = 'display_data';\n",
              "        await google.colab.output.renderOutput(dataTable, element);\n",
              "        const docLink = document.createElement('div');\n",
              "        docLink.innerHTML = docLinkHtml;\n",
              "        element.appendChild(docLink);\n",
              "      }\n",
              "    </script>\n",
              "  </div>\n",
              "\n",
              "\n",
              "<div id=\"df-18fc8b78-b05f-45eb-a78f-9a85808dc4d2\">\n",
              "  <button class=\"colab-df-quickchart\" onclick=\"quickchart('df-18fc8b78-b05f-45eb-a78f-9a85808dc4d2')\"\n",
              "            title=\"Suggest charts\"\n",
              "            style=\"display:none;\">\n",
              "\n",
              "<svg xmlns=\"http://www.w3.org/2000/svg\" height=\"24px\"viewBox=\"0 0 24 24\"\n",
              "     width=\"24px\">\n",
              "    <g>\n",
              "        <path d=\"M19 3H5c-1.1 0-2 .9-2 2v14c0 1.1.9 2 2 2h14c1.1 0 2-.9 2-2V5c0-1.1-.9-2-2-2zM9 17H7v-7h2v7zm4 0h-2V7h2v10zm4 0h-2v-4h2v4z\"/>\n",
              "    </g>\n",
              "</svg>\n",
              "  </button>\n",
              "\n",
              "<style>\n",
              "  .colab-df-quickchart {\n",
              "      --bg-color: #E8F0FE;\n",
              "      --fill-color: #1967D2;\n",
              "      --hover-bg-color: #E2EBFA;\n",
              "      --hover-fill-color: #174EA6;\n",
              "      --disabled-fill-color: #AAA;\n",
              "      --disabled-bg-color: #DDD;\n",
              "  }\n",
              "\n",
              "  [theme=dark] .colab-df-quickchart {\n",
              "      --bg-color: #3B4455;\n",
              "      --fill-color: #D2E3FC;\n",
              "      --hover-bg-color: #434B5C;\n",
              "      --hover-fill-color: #FFFFFF;\n",
              "      --disabled-bg-color: #3B4455;\n",
              "      --disabled-fill-color: #666;\n",
              "  }\n",
              "\n",
              "  .colab-df-quickchart {\n",
              "    background-color: var(--bg-color);\n",
              "    border: none;\n",
              "    border-radius: 50%;\n",
              "    cursor: pointer;\n",
              "    display: none;\n",
              "    fill: var(--fill-color);\n",
              "    height: 32px;\n",
              "    padding: 0;\n",
              "    width: 32px;\n",
              "  }\n",
              "\n",
              "  .colab-df-quickchart:hover {\n",
              "    background-color: var(--hover-bg-color);\n",
              "    box-shadow: 0 1px 2px rgba(60, 64, 67, 0.3), 0 1px 3px 1px rgba(60, 64, 67, 0.15);\n",
              "    fill: var(--button-hover-fill-color);\n",
              "  }\n",
              "\n",
              "  .colab-df-quickchart-complete:disabled,\n",
              "  .colab-df-quickchart-complete:disabled:hover {\n",
              "    background-color: var(--disabled-bg-color);\n",
              "    fill: var(--disabled-fill-color);\n",
              "    box-shadow: none;\n",
              "  }\n",
              "\n",
              "  .colab-df-spinner {\n",
              "    border: 2px solid var(--fill-color);\n",
              "    border-color: transparent;\n",
              "    border-bottom-color: var(--fill-color);\n",
              "    animation:\n",
              "      spin 1s steps(1) infinite;\n",
              "  }\n",
              "\n",
              "  @keyframes spin {\n",
              "    0% {\n",
              "      border-color: transparent;\n",
              "      border-bottom-color: var(--fill-color);\n",
              "      border-left-color: var(--fill-color);\n",
              "    }\n",
              "    20% {\n",
              "      border-color: transparent;\n",
              "      border-left-color: var(--fill-color);\n",
              "      border-top-color: var(--fill-color);\n",
              "    }\n",
              "    30% {\n",
              "      border-color: transparent;\n",
              "      border-left-color: var(--fill-color);\n",
              "      border-top-color: var(--fill-color);\n",
              "      border-right-color: var(--fill-color);\n",
              "    }\n",
              "    40% {\n",
              "      border-color: transparent;\n",
              "      border-right-color: var(--fill-color);\n",
              "      border-top-color: var(--fill-color);\n",
              "    }\n",
              "    60% {\n",
              "      border-color: transparent;\n",
              "      border-right-color: var(--fill-color);\n",
              "    }\n",
              "    80% {\n",
              "      border-color: transparent;\n",
              "      border-right-color: var(--fill-color);\n",
              "      border-bottom-color: var(--fill-color);\n",
              "    }\n",
              "    90% {\n",
              "      border-color: transparent;\n",
              "      border-bottom-color: var(--fill-color);\n",
              "    }\n",
              "  }\n",
              "</style>\n",
              "\n",
              "  <script>\n",
              "    async function quickchart(key) {\n",
              "      const quickchartButtonEl =\n",
              "        document.querySelector('#' + key + ' button');\n",
              "      quickchartButtonEl.disabled = true;  // To prevent multiple clicks.\n",
              "      quickchartButtonEl.classList.add('colab-df-spinner');\n",
              "      try {\n",
              "        const charts = await google.colab.kernel.invokeFunction(\n",
              "            'suggestCharts', [key], {});\n",
              "      } catch (error) {\n",
              "        console.error('Error during call to suggestCharts:', error);\n",
              "      }\n",
              "      quickchartButtonEl.classList.remove('colab-df-spinner');\n",
              "      quickchartButtonEl.classList.add('colab-df-quickchart-complete');\n",
              "    }\n",
              "    (() => {\n",
              "      let quickchartButtonEl =\n",
              "        document.querySelector('#df-18fc8b78-b05f-45eb-a78f-9a85808dc4d2 button');\n",
              "      quickchartButtonEl.style.display =\n",
              "        google.colab.kernel.accessAllowed ? 'block' : 'none';\n",
              "    })();\n",
              "  </script>\n",
              "</div>\n",
              "\n",
              "    </div>\n",
              "  </div>\n"
            ],
            "application/vnd.google.colaboratory.intrinsic+json": {
              "type": "dataframe",
              "variable_name": "comments_df",
              "summary": "{\n  \"name\": \"comments_df\",\n  \"rows\": 160,\n  \"fields\": [\n    {\n      \"column\": \"parent_id\",\n      \"properties\": {\n        \"dtype\": \"string\",\n        \"num_unique_values\": 160,\n        \"samples\": [\n          \"l40m1ag\",\n          \"l40tz4y\",\n          \"l411qmq\"\n        ],\n        \"semantic_type\": \"\",\n        \"description\": \"\"\n      }\n    },\n    {\n      \"column\": \"author\",\n      \"properties\": {\n        \"dtype\": \"category\",\n        \"num_unique_values\": 62,\n        \"samples\": [\n          \"MarbleFox_\",\n          \"Dapper-Flamingo-4478\",\n          \"99hoglagoons\"\n        ],\n        \"semantic_type\": \"\",\n        \"description\": \"\"\n      }\n    },\n    {\n      \"column\": \"parent_text\",\n      \"properties\": {\n        \"dtype\": \"string\",\n        \"num_unique_values\": 160,\n        \"samples\": [\n          \"How are people fucked over by developers? Do tell. And don\\u2019t start with that whole \\u201ctHeY oNlY bUiLd LuXuRy\\u201d nonsense. Ain\\u2019t nothing luxury about a simple new building with a gym. Housing stock is low as shit and that\\u2019s why its expensive.\",\n          \"Now google how many people moved to the city from 2010-2020. \\n\\nThen google how many units were lost during that time. \\n\\nThe article you linked says that the city is in the negative in housing. \\n\\nThe city is nowhere near dense enough. We have so many suburbs in Brooklyn and queens and the Bronx. We have so many areas that can support higher density.\",\n          \"> I promise you that landlords in the East Village would love to sell their shitty century-old building to developers for massive multiples of its current valuation. \\n\\nLOL! I don\\u2019t think you know nyc property owners too well \\ud83e\\udd23\\n\\n> The reason they don\\u2019t do this is that it is illegal for developers to build a high-rise that makes it worth it.\\n\\nNo, it\\u2019s because THEY DONT WANT TO. Do you have any idea how long it takes to buy out enough NYC property to make hirise development viable?\\n\\nAnd btw, the East village/LES was zoned for hi-rise development in 2008\\n\\nNot sure what you were trying say with that bk reader article, it seemed to be about developers trying to skirt existing environmental reviews and getting shut down, I\\u2019m not sure what relevance you think it has\"\n        ],\n        \"semantic_type\": \"\",\n        \"description\": \"\"\n      }\n    },\n    {\n      \"column\": \"score\",\n      \"properties\": {\n        \"dtype\": \"number\",\n        \"std\": 21,\n        \"min\": -13,\n        \"max\": 220,\n        \"num_unique_values\": 37,\n        \"samples\": [\n          8,\n          69,\n          1\n        ],\n        \"semantic_type\": \"\",\n        \"description\": \"\"\n      }\n    },\n    {\n      \"column\": \"date\",\n      \"properties\": {\n        \"dtype\": \"number\",\n        \"std\": 773208.8095748698,\n        \"min\": 1715692585.0,\n        \"max\": 1725487859.0,\n        \"num_unique_values\": 158,\n        \"samples\": [\n          1715705922.0,\n          1715718573.0,\n          1715698875.0\n        ],\n        \"semantic_type\": \"\",\n        \"description\": \"\"\n      }\n    }\n  ]\n}"
            }
          },
          "metadata": {},
          "execution_count": 14
        }
      ]
    },
    {
      "cell_type": "code",
      "source": [
        "# Format the Date\n",
        "from datetime import datetime\n",
        "\n",
        "comments_df['date'] = comments_df['date'].apply(\n",
        "    lambda x: datetime.fromtimestamp(x) if isinstance(x, (int, float)) else x\n",
        ")"
      ],
      "metadata": {
        "id": "cNz-DSosFhe5"
      },
      "execution_count": 15,
      "outputs": []
    },
    {
      "cell_type": "code",
      "source": [
        "comments_df.to_csv('cleaned_comments_with_readable_date.csv', index=False)"
      ],
      "metadata": {
        "id": "LGrn0hwgcQsr"
      },
      "execution_count": 16,
      "outputs": []
    },
    {
      "cell_type": "code",
      "source": [
        "# Handle missing values in the parent_id and parent_text columns\n",
        "comments_df['parent_id'] = comments_df['parent_id'].fillna('no id')\n",
        "comments_df['parent_text'] = comments_df['parent_text'].fillna('no parent comment')"
      ],
      "metadata": {
        "id": "_rALdQy1ET59"
      },
      "execution_count": 17,
      "outputs": []
    },
    {
      "cell_type": "code",
      "source": [
        "comments_df.sort_values('score', ascending=False)"
      ],
      "metadata": {
        "id": "RpQ6iX8uEdwP",
        "collapsed": true,
        "colab": {
          "base_uri": "https://localhost:8080/",
          "height": 997
        },
        "outputId": "9d538893-52e4-4684-8ecd-00fb5ff871d8"
      },
      "execution_count": 18,
      "outputs": [
        {
          "output_type": "execute_result",
          "data": {
            "text/plain": [
              "    parent_id                author  \\\n",
              "0     l40meoy          99hoglagoons   \n",
              "7     l40s0jl            soflahokie   \n",
              "15    l4032t6      hereswhatipicked   \n",
              "1     l3zy7ba                TarumK   \n",
              "2     l4014fm  Puzzleheaded_Will352   \n",
              "..        ...                   ...   \n",
              "48    l405ysw                TarumK   \n",
              "87    l409sah              Rottimer   \n",
              "117   l40bp7s   Far_Indication_1665   \n",
              "36    l40y9f4   Internal-Spray-7977   \n",
              "73    l40o41z         mad_king_soup   \n",
              "\n",
              "                                                                                                                                                                                                                                                                                                                                                                                                                                                                                                                                                                                                                                                                                                                                                                                                                                                                                                                                                                                                                                                                                                                                                                                                                                                                                                                                                                                     parent_text  \\\n",
              "0    Man, all these comments and not a single one even remotely relevant to the topic at hand. Are we on reddit or twitter or NYPost comment section. It doesn't matter anymore. Just shoot your load that is marginally related to the topic. \\n\\nBut basically:\\n\\n* NYC tried to create a private-public partnership with developers. 421a essentially. Massive property tax abatements in exchange for X percentage of affordable units.\\n\\n* Turns out most of the affordable units created are not affordable at all. \\n\\n* Affordability is calculated based on AMI (area median income), but HUD forces NYC to calculate the AMI based on greater NYC area, not just the city, or borough, or specific neighborhood. \\n\\n* Turns out poor people in Bronx and Queens and Brooklyn make a lot less money than people in New Rochelle, or whatever. \\n\\n* When an affordable unit is built, it is often listed as eligible for 70-110% AMI, which is completely unaffordable for anyone actually low income. \\n\\n* End result is that a lot of communities end up being stoutly against any new development, because they can see with their own eyes that none of the new stuff is actually for them. \\n\\n* The affordable housing program ended up accidentally creating a whole new type and generation of NIMBYS.\\n\\nI ad-libbed on the last two points. But this is where we are now.   \n",
              "7                                                                                                                                                                                                                                                                                                                                                                                                                                                                                                                                                                                                                                                                                                                                                                                                                                                                                                                                                                                                                                                                                                                                                                                                               Thanks for explaining this, I've always wondered with the \"low-income\" units cost like $2,500 a month and the income max is something like $110k. That's completely unaffordable   \n",
              "15                                                                                                                                                                                                                                                                                                                                                                                                                                                                                                                                                                                                                                                                                                                                                                                                                                                                                         I've always thought the solution was more and better transit options. If you could get anywhere in the NYC from anywhere in NYC in 30min, that would open up a lot of areas where there is housing stock to people who are living in NYC more for the employment options than the urban-chic lifestyle (and there are plenty of people who fit that bill).\\n\\nObviously, that is pie-in-the-sky idea and probably as equally impossible as building enough units to outpace demand. But we can dream!   \n",
              "1                                                                                                                                                                                                                                                                                                                                                                                                                                                                                                                                                                                                                                                                                                                                                                                                                                                                                                                                                                                                                                                                    Is there any realistic way housing could be affordable in NYC without a massive drop in demand? Like, if you make housing way below market rate people are just gonna stay in it forever, as happens with rent control and public housing, so it's still gonna be functionally unavailable for most people that would want.   \n",
              "2                                                                                                                                                                                                                                                                                                                                                                                                                                                                                                                                                                                                                                                                                                                                                                                                                                                                                                                                                                                                                                                                                                                                                                                                                                           Just fucking build already Jesus Christ. How many times are we going to talk about there not being enough housing before we…build some damn housing.   \n",
              "..                                                                                                                                                                                                                                                                                                                                                                                                                                                                                                                                                                                                                                                                                                                                                                                                                                                                                                                                                                                                                                                                                                                                                                                                                                                                                                                                                                                           ...   \n",
              "48                                                                                                                                                                                                                                                                                                                                                                                                                                                                                                                                                                                                                                                                                                                                                                                              I mean Nyc already has decent transit. It's just a huge city. I'm sure Tokyo or whatever is better but still, it's never gonna be the case that you can get from the Bronx to Coney island in 30 mins, or anything similar involving suburbs. I don't know how you'd have something like that in a city this big. I don't think there are any metro areas of 20 million people where people can get anywhere in half an hour. \\n\\nAlso of housing options that aren't chic lol. Basically anywhere in the Bronx and most of Brooklyn and Queens are not chic. Nothing chic about Sheapshead Bay.   \n",
              "87                                                                                                                                                                                                                                                                                                                                                                                                                                                                                                                                                                                                                                                                                                                                                                                                                                                                                                                                                                                                                                                                                                          Those rules didn’t come out of nowhere.  I agree there is a lot of NIMBY protectionism that makes building in NYC long and expensive.  But there are also rules so that people aren’t fucked over by developers that will never have to live in or around the structures they build.   \n",
              "117                                                                                                                                                                                                                                                                                                                                                                                                                                                                                                                                                                                                                                                                                                                                                                                                                                                                                                                                                                                                                                                                                                                                                                                                                                                                                                                                     Your cold hearted bastard nature on full display, again.   \n",
              "36                                                                                                                                                                                                                                                                                                                                                                                                                                                                                                                                                                                                                                                                                                                                                                                                                                                                                                                                                                                                                                                                                                                      110k isn't \"unaffordable\" by NYC standards. New grads in some industries make more than that. It's just a result of there being demand for more housing in nearby locations because people who make 110k are willing to commute to save 1500/mo. It's a supply shortage.   \n",
              "73                                                                                                                                                                                                                                                                                                                                                                                                                                                                                                                                                                                                                                                                                                                                                                                                                                                                                                                                                                                                                                                                                                                                                                                        So you basically want the opportunities afforded by a big city without the cost and without having to participate in the “urban lifestyle”, right?\\n\\nDamn, some people just want everything their way   \n",
              "\n",
              "     score                date  \n",
              "0      220 2024-05-14 15:46:33  \n",
              "7       89 2024-05-14 16:18:01  \n",
              "15      69 2024-05-14 13:53:34  \n",
              "1       66 2024-05-14 13:22:31  \n",
              "2       47 2024-05-14 13:41:21  \n",
              "..     ...                 ...  \n",
              "48      -8 2024-05-14 14:11:17  \n",
              "87      -8 2024-05-14 14:34:02  \n",
              "117     -9 2024-05-14 14:45:16  \n",
              "36     -12 2024-05-14 16:52:40  \n",
              "73     -13 2024-05-14 15:56:01  \n",
              "\n",
              "[160 rows x 5 columns]"
            ],
            "text/html": [
              "\n",
              "  <div id=\"df-d313d4ce-d07e-495a-bdf4-9d8a2e08c776\" class=\"colab-df-container\">\n",
              "    <div>\n",
              "<style scoped>\n",
              "    .dataframe tbody tr th:only-of-type {\n",
              "        vertical-align: middle;\n",
              "    }\n",
              "\n",
              "    .dataframe tbody tr th {\n",
              "        vertical-align: top;\n",
              "    }\n",
              "\n",
              "    .dataframe thead th {\n",
              "        text-align: right;\n",
              "    }\n",
              "</style>\n",
              "<table border=\"1\" class=\"dataframe\">\n",
              "  <thead>\n",
              "    <tr style=\"text-align: right;\">\n",
              "      <th></th>\n",
              "      <th>parent_id</th>\n",
              "      <th>author</th>\n",
              "      <th>parent_text</th>\n",
              "      <th>score</th>\n",
              "      <th>date</th>\n",
              "    </tr>\n",
              "  </thead>\n",
              "  <tbody>\n",
              "    <tr>\n",
              "      <th>0</th>\n",
              "      <td>l40meoy</td>\n",
              "      <td>99hoglagoons</td>\n",
              "      <td>Man, all these comments and not a single one even remotely relevant to the topic at hand. Are we on reddit or twitter or NYPost comment section. It doesn't matter anymore. Just shoot your load that is marginally related to the topic. \\n\\nBut basically:\\n\\n* NYC tried to create a private-public partnership with developers. 421a essentially. Massive property tax abatements in exchange for X percentage of affordable units.\\n\\n* Turns out most of the affordable units created are not affordable at all. \\n\\n* Affordability is calculated based on AMI (area median income), but HUD forces NYC to calculate the AMI based on greater NYC area, not just the city, or borough, or specific neighborhood. \\n\\n* Turns out poor people in Bronx and Queens and Brooklyn make a lot less money than people in New Rochelle, or whatever. \\n\\n* When an affordable unit is built, it is often listed as eligible for 70-110% AMI, which is completely unaffordable for anyone actually low income. \\n\\n* End result is that a lot of communities end up being stoutly against any new development, because they can see with their own eyes that none of the new stuff is actually for them. \\n\\n* The affordable housing program ended up accidentally creating a whole new type and generation of NIMBYS.\\n\\nI ad-libbed on the last two points. But this is where we are now.</td>\n",
              "      <td>220</td>\n",
              "      <td>2024-05-14 15:46:33</td>\n",
              "    </tr>\n",
              "    <tr>\n",
              "      <th>7</th>\n",
              "      <td>l40s0jl</td>\n",
              "      <td>soflahokie</td>\n",
              "      <td>Thanks for explaining this, I've always wondered with the \"low-income\" units cost like $2,500 a month and the income max is something like $110k. That's completely unaffordable</td>\n",
              "      <td>89</td>\n",
              "      <td>2024-05-14 16:18:01</td>\n",
              "    </tr>\n",
              "    <tr>\n",
              "      <th>15</th>\n",
              "      <td>l4032t6</td>\n",
              "      <td>hereswhatipicked</td>\n",
              "      <td>I've always thought the solution was more and better transit options. If you could get anywhere in the NYC from anywhere in NYC in 30min, that would open up a lot of areas where there is housing stock to people who are living in NYC more for the employment options than the urban-chic lifestyle (and there are plenty of people who fit that bill).\\n\\nObviously, that is pie-in-the-sky idea and probably as equally impossible as building enough units to outpace demand. But we can dream!</td>\n",
              "      <td>69</td>\n",
              "      <td>2024-05-14 13:53:34</td>\n",
              "    </tr>\n",
              "    <tr>\n",
              "      <th>1</th>\n",
              "      <td>l3zy7ba</td>\n",
              "      <td>TarumK</td>\n",
              "      <td>Is there any realistic way housing could be affordable in NYC without a massive drop in demand? Like, if you make housing way below market rate people are just gonna stay in it forever, as happens with rent control and public housing, so it's still gonna be functionally unavailable for most people that would want.</td>\n",
              "      <td>66</td>\n",
              "      <td>2024-05-14 13:22:31</td>\n",
              "    </tr>\n",
              "    <tr>\n",
              "      <th>2</th>\n",
              "      <td>l4014fm</td>\n",
              "      <td>Puzzleheaded_Will352</td>\n",
              "      <td>Just fucking build already Jesus Christ. How many times are we going to talk about there not being enough housing before we…build some damn housing.</td>\n",
              "      <td>47</td>\n",
              "      <td>2024-05-14 13:41:21</td>\n",
              "    </tr>\n",
              "    <tr>\n",
              "      <th>...</th>\n",
              "      <td>...</td>\n",
              "      <td>...</td>\n",
              "      <td>...</td>\n",
              "      <td>...</td>\n",
              "      <td>...</td>\n",
              "    </tr>\n",
              "    <tr>\n",
              "      <th>48</th>\n",
              "      <td>l405ysw</td>\n",
              "      <td>TarumK</td>\n",
              "      <td>I mean Nyc already has decent transit. It's just a huge city. I'm sure Tokyo or whatever is better but still, it's never gonna be the case that you can get from the Bronx to Coney island in 30 mins, or anything similar involving suburbs. I don't know how you'd have something like that in a city this big. I don't think there are any metro areas of 20 million people where people can get anywhere in half an hour. \\n\\nAlso of housing options that aren't chic lol. Basically anywhere in the Bronx and most of Brooklyn and Queens are not chic. Nothing chic about Sheapshead Bay.</td>\n",
              "      <td>-8</td>\n",
              "      <td>2024-05-14 14:11:17</td>\n",
              "    </tr>\n",
              "    <tr>\n",
              "      <th>87</th>\n",
              "      <td>l409sah</td>\n",
              "      <td>Rottimer</td>\n",
              "      <td>Those rules didn’t come out of nowhere.  I agree there is a lot of NIMBY protectionism that makes building in NYC long and expensive.  But there are also rules so that people aren’t fucked over by developers that will never have to live in or around the structures they build.</td>\n",
              "      <td>-8</td>\n",
              "      <td>2024-05-14 14:34:02</td>\n",
              "    </tr>\n",
              "    <tr>\n",
              "      <th>117</th>\n",
              "      <td>l40bp7s</td>\n",
              "      <td>Far_Indication_1665</td>\n",
              "      <td>Your cold hearted bastard nature on full display, again.</td>\n",
              "      <td>-9</td>\n",
              "      <td>2024-05-14 14:45:16</td>\n",
              "    </tr>\n",
              "    <tr>\n",
              "      <th>36</th>\n",
              "      <td>l40y9f4</td>\n",
              "      <td>Internal-Spray-7977</td>\n",
              "      <td>110k isn't \"unaffordable\" by NYC standards. New grads in some industries make more than that. It's just a result of there being demand for more housing in nearby locations because people who make 110k are willing to commute to save 1500/mo. It's a supply shortage.</td>\n",
              "      <td>-12</td>\n",
              "      <td>2024-05-14 16:52:40</td>\n",
              "    </tr>\n",
              "    <tr>\n",
              "      <th>73</th>\n",
              "      <td>l40o41z</td>\n",
              "      <td>mad_king_soup</td>\n",
              "      <td>So you basically want the opportunities afforded by a big city without the cost and without having to participate in the “urban lifestyle”, right?\\n\\nDamn, some people just want everything their way</td>\n",
              "      <td>-13</td>\n",
              "      <td>2024-05-14 15:56:01</td>\n",
              "    </tr>\n",
              "  </tbody>\n",
              "</table>\n",
              "<p>160 rows × 5 columns</p>\n",
              "</div>\n",
              "    <div class=\"colab-df-buttons\">\n",
              "\n",
              "  <div class=\"colab-df-container\">\n",
              "    <button class=\"colab-df-convert\" onclick=\"convertToInteractive('df-d313d4ce-d07e-495a-bdf4-9d8a2e08c776')\"\n",
              "            title=\"Convert this dataframe to an interactive table.\"\n",
              "            style=\"display:none;\">\n",
              "\n",
              "  <svg xmlns=\"http://www.w3.org/2000/svg\" height=\"24px\" viewBox=\"0 -960 960 960\">\n",
              "    <path d=\"M120-120v-720h720v720H120Zm60-500h600v-160H180v160Zm220 220h160v-160H400v160Zm0 220h160v-160H400v160ZM180-400h160v-160H180v160Zm440 0h160v-160H620v160ZM180-180h160v-160H180v160Zm440 0h160v-160H620v160Z\"/>\n",
              "  </svg>\n",
              "    </button>\n",
              "\n",
              "  <style>\n",
              "    .colab-df-container {\n",
              "      display:flex;\n",
              "      gap: 12px;\n",
              "    }\n",
              "\n",
              "    .colab-df-convert {\n",
              "      background-color: #E8F0FE;\n",
              "      border: none;\n",
              "      border-radius: 50%;\n",
              "      cursor: pointer;\n",
              "      display: none;\n",
              "      fill: #1967D2;\n",
              "      height: 32px;\n",
              "      padding: 0 0 0 0;\n",
              "      width: 32px;\n",
              "    }\n",
              "\n",
              "    .colab-df-convert:hover {\n",
              "      background-color: #E2EBFA;\n",
              "      box-shadow: 0px 1px 2px rgba(60, 64, 67, 0.3), 0px 1px 3px 1px rgba(60, 64, 67, 0.15);\n",
              "      fill: #174EA6;\n",
              "    }\n",
              "\n",
              "    .colab-df-buttons div {\n",
              "      margin-bottom: 4px;\n",
              "    }\n",
              "\n",
              "    [theme=dark] .colab-df-convert {\n",
              "      background-color: #3B4455;\n",
              "      fill: #D2E3FC;\n",
              "    }\n",
              "\n",
              "    [theme=dark] .colab-df-convert:hover {\n",
              "      background-color: #434B5C;\n",
              "      box-shadow: 0px 1px 3px 1px rgba(0, 0, 0, 0.15);\n",
              "      filter: drop-shadow(0px 1px 2px rgba(0, 0, 0, 0.3));\n",
              "      fill: #FFFFFF;\n",
              "    }\n",
              "  </style>\n",
              "\n",
              "    <script>\n",
              "      const buttonEl =\n",
              "        document.querySelector('#df-d313d4ce-d07e-495a-bdf4-9d8a2e08c776 button.colab-df-convert');\n",
              "      buttonEl.style.display =\n",
              "        google.colab.kernel.accessAllowed ? 'block' : 'none';\n",
              "\n",
              "      async function convertToInteractive(key) {\n",
              "        const element = document.querySelector('#df-d313d4ce-d07e-495a-bdf4-9d8a2e08c776');\n",
              "        const dataTable =\n",
              "          await google.colab.kernel.invokeFunction('convertToInteractive',\n",
              "                                                    [key], {});\n",
              "        if (!dataTable) return;\n",
              "\n",
              "        const docLinkHtml = 'Like what you see? Visit the ' +\n",
              "          '<a target=\"_blank\" href=https://colab.research.google.com/notebooks/data_table.ipynb>data table notebook</a>'\n",
              "          + ' to learn more about interactive tables.';\n",
              "        element.innerHTML = '';\n",
              "        dataTable['output_type'] = 'display_data';\n",
              "        await google.colab.output.renderOutput(dataTable, element);\n",
              "        const docLink = document.createElement('div');\n",
              "        docLink.innerHTML = docLinkHtml;\n",
              "        element.appendChild(docLink);\n",
              "      }\n",
              "    </script>\n",
              "  </div>\n",
              "\n",
              "\n",
              "<div id=\"df-ad57b2fa-94a5-48e0-aa55-fdb6a3727715\">\n",
              "  <button class=\"colab-df-quickchart\" onclick=\"quickchart('df-ad57b2fa-94a5-48e0-aa55-fdb6a3727715')\"\n",
              "            title=\"Suggest charts\"\n",
              "            style=\"display:none;\">\n",
              "\n",
              "<svg xmlns=\"http://www.w3.org/2000/svg\" height=\"24px\"viewBox=\"0 0 24 24\"\n",
              "     width=\"24px\">\n",
              "    <g>\n",
              "        <path d=\"M19 3H5c-1.1 0-2 .9-2 2v14c0 1.1.9 2 2 2h14c1.1 0 2-.9 2-2V5c0-1.1-.9-2-2-2zM9 17H7v-7h2v7zm4 0h-2V7h2v10zm4 0h-2v-4h2v4z\"/>\n",
              "    </g>\n",
              "</svg>\n",
              "  </button>\n",
              "\n",
              "<style>\n",
              "  .colab-df-quickchart {\n",
              "      --bg-color: #E8F0FE;\n",
              "      --fill-color: #1967D2;\n",
              "      --hover-bg-color: #E2EBFA;\n",
              "      --hover-fill-color: #174EA6;\n",
              "      --disabled-fill-color: #AAA;\n",
              "      --disabled-bg-color: #DDD;\n",
              "  }\n",
              "\n",
              "  [theme=dark] .colab-df-quickchart {\n",
              "      --bg-color: #3B4455;\n",
              "      --fill-color: #D2E3FC;\n",
              "      --hover-bg-color: #434B5C;\n",
              "      --hover-fill-color: #FFFFFF;\n",
              "      --disabled-bg-color: #3B4455;\n",
              "      --disabled-fill-color: #666;\n",
              "  }\n",
              "\n",
              "  .colab-df-quickchart {\n",
              "    background-color: var(--bg-color);\n",
              "    border: none;\n",
              "    border-radius: 50%;\n",
              "    cursor: pointer;\n",
              "    display: none;\n",
              "    fill: var(--fill-color);\n",
              "    height: 32px;\n",
              "    padding: 0;\n",
              "    width: 32px;\n",
              "  }\n",
              "\n",
              "  .colab-df-quickchart:hover {\n",
              "    background-color: var(--hover-bg-color);\n",
              "    box-shadow: 0 1px 2px rgba(60, 64, 67, 0.3), 0 1px 3px 1px rgba(60, 64, 67, 0.15);\n",
              "    fill: var(--button-hover-fill-color);\n",
              "  }\n",
              "\n",
              "  .colab-df-quickchart-complete:disabled,\n",
              "  .colab-df-quickchart-complete:disabled:hover {\n",
              "    background-color: var(--disabled-bg-color);\n",
              "    fill: var(--disabled-fill-color);\n",
              "    box-shadow: none;\n",
              "  }\n",
              "\n",
              "  .colab-df-spinner {\n",
              "    border: 2px solid var(--fill-color);\n",
              "    border-color: transparent;\n",
              "    border-bottom-color: var(--fill-color);\n",
              "    animation:\n",
              "      spin 1s steps(1) infinite;\n",
              "  }\n",
              "\n",
              "  @keyframes spin {\n",
              "    0% {\n",
              "      border-color: transparent;\n",
              "      border-bottom-color: var(--fill-color);\n",
              "      border-left-color: var(--fill-color);\n",
              "    }\n",
              "    20% {\n",
              "      border-color: transparent;\n",
              "      border-left-color: var(--fill-color);\n",
              "      border-top-color: var(--fill-color);\n",
              "    }\n",
              "    30% {\n",
              "      border-color: transparent;\n",
              "      border-left-color: var(--fill-color);\n",
              "      border-top-color: var(--fill-color);\n",
              "      border-right-color: var(--fill-color);\n",
              "    }\n",
              "    40% {\n",
              "      border-color: transparent;\n",
              "      border-right-color: var(--fill-color);\n",
              "      border-top-color: var(--fill-color);\n",
              "    }\n",
              "    60% {\n",
              "      border-color: transparent;\n",
              "      border-right-color: var(--fill-color);\n",
              "    }\n",
              "    80% {\n",
              "      border-color: transparent;\n",
              "      border-right-color: var(--fill-color);\n",
              "      border-bottom-color: var(--fill-color);\n",
              "    }\n",
              "    90% {\n",
              "      border-color: transparent;\n",
              "      border-bottom-color: var(--fill-color);\n",
              "    }\n",
              "  }\n",
              "</style>\n",
              "\n",
              "  <script>\n",
              "    async function quickchart(key) {\n",
              "      const quickchartButtonEl =\n",
              "        document.querySelector('#' + key + ' button');\n",
              "      quickchartButtonEl.disabled = true;  // To prevent multiple clicks.\n",
              "      quickchartButtonEl.classList.add('colab-df-spinner');\n",
              "      try {\n",
              "        const charts = await google.colab.kernel.invokeFunction(\n",
              "            'suggestCharts', [key], {});\n",
              "      } catch (error) {\n",
              "        console.error('Error during call to suggestCharts:', error);\n",
              "      }\n",
              "      quickchartButtonEl.classList.remove('colab-df-spinner');\n",
              "      quickchartButtonEl.classList.add('colab-df-quickchart-complete');\n",
              "    }\n",
              "    (() => {\n",
              "      let quickchartButtonEl =\n",
              "        document.querySelector('#df-ad57b2fa-94a5-48e0-aa55-fdb6a3727715 button');\n",
              "      quickchartButtonEl.style.display =\n",
              "        google.colab.kernel.accessAllowed ? 'block' : 'none';\n",
              "    })();\n",
              "  </script>\n",
              "</div>\n",
              "\n",
              "    </div>\n",
              "  </div>\n"
            ],
            "application/vnd.google.colaboratory.intrinsic+json": {
              "type": "dataframe",
              "summary": "{\n  \"name\": \"comments_df\",\n  \"rows\": 160,\n  \"fields\": [\n    {\n      \"column\": \"parent_id\",\n      \"properties\": {\n        \"dtype\": \"string\",\n        \"num_unique_values\": 160,\n        \"samples\": [\n          \"l41wbxt\",\n          \"l40plh0\",\n          \"l4641fl\"\n        ],\n        \"semantic_type\": \"\",\n        \"description\": \"\"\n      }\n    },\n    {\n      \"column\": \"author\",\n      \"properties\": {\n        \"dtype\": \"category\",\n        \"num_unique_values\": 62,\n        \"samples\": [\n          \"sunmaiden\",\n          \"kuavi\",\n          \"99hoglagoons\"\n        ],\n        \"semantic_type\": \"\",\n        \"description\": \"\"\n      }\n    },\n    {\n      \"column\": \"parent_text\",\n      \"properties\": {\n        \"dtype\": \"string\",\n        \"num_unique_values\": 160,\n        \"samples\": [\n          \"I'm entitled because I want to stay in my apartment in a city where I've built up a career and a social life over the last decade plus and don't want to start over or move further out to the point where I'll need a car. Fine. I'm entitled. Fuck you anyway.\",\n          \"> Takes years and years of permitting and environmental surveys to break ground. \\n\\nNo it doesn\\u2019t, it takes a few months from site purchase to breaking ground. Raising the money takes longer, I\\u2019ve seen it happen in real time and it\\u2019s hilarious that people think that property development is held back by red tape.\\n\\n> Tell me, why do you think there are no high rises in the West Village, some of the most valuable land on Earth? The east village too for that matter.\\n\\nBecause people own those properties and do very well from owning them and don\\u2019t want to sell them to some global finance company. You know how property rights work, right?\",\n          \"> It is the property tax rate as a % of market value. You\\u2019re just engaging in mental gymnastics.\\n\\nYes my dude. $4128 is clearly bigger than $7644. You win the math award of the day. \\n\\nThere is a clear problem in how property taxes are assessed in NYC, and it's specifically house vs apartment divide. Adding this additional observation that rental apartments pay more than owned apartments (they don't) adds this layer of obfuscation that ensures literally nothing ever gets fixed. \\n\\n> Also, it is not reaganomics to want large rental buildings to not be taxed crazy high; tenants benefit meaningfully from more construction\\n\\nTwo large buildings next to each other. Old one pays for garbage pickup and roads and schools, while the new one pays zero, and does so for decades. Oh, and the building that pays nothing is filled with much more wealthy people than the old one. \\n\\nIf you think this is fair, I wanna see your definition of  \\\"unfair\\\" next. \\n\\n> It\\u2019s like saying cutting high taxes on food\\n\\nUsing food in this example is intellectually dishonest. When ole Donny slashed corporate taxes, this was great news for all of the people because the savings were passed down, right? Nope. stock buybacks. Bonuses. Literally nothing was passed down. \\n\\n\\\"Rich people in new construction receiving massive tax cuts will benefit all New Yorkers!\\\" People actually believe this shit.\"\n        ],\n        \"semantic_type\": \"\",\n        \"description\": \"\"\n      }\n    },\n    {\n      \"column\": \"score\",\n      \"properties\": {\n        \"dtype\": \"number\",\n        \"std\": 21,\n        \"min\": -13,\n        \"max\": 220,\n        \"num_unique_values\": 37,\n        \"samples\": [\n          8,\n          15,\n          47\n        ],\n        \"semantic_type\": \"\",\n        \"description\": \"\"\n      }\n    },\n    {\n      \"column\": \"date\",\n      \"properties\": {\n        \"dtype\": \"date\",\n        \"min\": \"2024-05-14 13:16:25\",\n        \"max\": \"2024-09-04 22:10:59\",\n        \"num_unique_values\": 158,\n        \"samples\": [\n          \"2024-05-14 19:45:23\",\n          \"2024-05-14 13:58:44\",\n          \"2024-05-14 16:56:19\"\n        ],\n        \"semantic_type\": \"\",\n        \"description\": \"\"\n      }\n    }\n  ]\n}"
            }
          },
          "metadata": {},
          "execution_count": 18
        }
      ]
    },
    {
      "cell_type": "code",
      "source": [
        "comments_df.sort_values('score', ascending=True)"
      ],
      "metadata": {
        "id": "mRXOh69lEgjl",
        "colab": {
          "base_uri": "https://localhost:8080/",
          "height": 997
        },
        "outputId": "93952c53-02b8-4218-9b93-45a8cd943336"
      },
      "execution_count": 19,
      "outputs": [
        {
          "output_type": "execute_result",
          "data": {
            "text/plain": [
              "    parent_id                author  \\\n",
              "73    l40o41z         mad_king_soup   \n",
              "36    l40y9f4   Internal-Spray-7977   \n",
              "117   l40bp7s   Far_Indication_1665   \n",
              "48    l405ysw                TarumK   \n",
              "87    l409sah              Rottimer   \n",
              "..        ...                   ...   \n",
              "2     l4014fm  Puzzleheaded_Will352   \n",
              "1     l3zy7ba                TarumK   \n",
              "15    l4032t6      hereswhatipicked   \n",
              "7     l40s0jl            soflahokie   \n",
              "0     l40meoy          99hoglagoons   \n",
              "\n",
              "                                                                                                                                                                                                                                                                                                                                                                                                                                                                                                                                                                                                                                                                                                                                                                                                                                                                                                                                                                                                                                                                                                                                                                                                                                                                                                                                                                                     parent_text  \\\n",
              "73                                                                                                                                                                                                                                                                                                                                                                                                                                                                                                                                                                                                                                                                                                                                                                                                                                                                                                                                                                                                                                                                                                                                                                                        So you basically want the opportunities afforded by a big city without the cost and without having to participate in the “urban lifestyle”, right?\\n\\nDamn, some people just want everything their way   \n",
              "36                                                                                                                                                                                                                                                                                                                                                                                                                                                                                                                                                                                                                                                                                                                                                                                                                                                                                                                                                                                                                                                                                                                      110k isn't \"unaffordable\" by NYC standards. New grads in some industries make more than that. It's just a result of there being demand for more housing in nearby locations because people who make 110k are willing to commute to save 1500/mo. It's a supply shortage.   \n",
              "117                                                                                                                                                                                                                                                                                                                                                                                                                                                                                                                                                                                                                                                                                                                                                                                                                                                                                                                                                                                                                                                                                                                                                                                                                                                                                                                                     Your cold hearted bastard nature on full display, again.   \n",
              "48                                                                                                                                                                                                                                                                                                                                                                                                                                                                                                                                                                                                                                                                                                                                                                                              I mean Nyc already has decent transit. It's just a huge city. I'm sure Tokyo or whatever is better but still, it's never gonna be the case that you can get from the Bronx to Coney island in 30 mins, or anything similar involving suburbs. I don't know how you'd have something like that in a city this big. I don't think there are any metro areas of 20 million people where people can get anywhere in half an hour. \\n\\nAlso of housing options that aren't chic lol. Basically anywhere in the Bronx and most of Brooklyn and Queens are not chic. Nothing chic about Sheapshead Bay.   \n",
              "87                                                                                                                                                                                                                                                                                                                                                                                                                                                                                                                                                                                                                                                                                                                                                                                                                                                                                                                                                                                                                                                                                                          Those rules didn’t come out of nowhere.  I agree there is a lot of NIMBY protectionism that makes building in NYC long and expensive.  But there are also rules so that people aren’t fucked over by developers that will never have to live in or around the structures they build.   \n",
              "..                                                                                                                                                                                                                                                                                                                                                                                                                                                                                                                                                                                                                                                                                                                                                                                                                                                                                                                                                                                                                                                                                                                                                                                                                                                                                                                                                                                           ...   \n",
              "2                                                                                                                                                                                                                                                                                                                                                                                                                                                                                                                                                                                                                                                                                                                                                                                                                                                                                                                                                                                                                                                                                                                                                                                                                                           Just fucking build already Jesus Christ. How many times are we going to talk about there not being enough housing before we…build some damn housing.   \n",
              "1                                                                                                                                                                                                                                                                                                                                                                                                                                                                                                                                                                                                                                                                                                                                                                                                                                                                                                                                                                                                                                                                    Is there any realistic way housing could be affordable in NYC without a massive drop in demand? Like, if you make housing way below market rate people are just gonna stay in it forever, as happens with rent control and public housing, so it's still gonna be functionally unavailable for most people that would want.   \n",
              "15                                                                                                                                                                                                                                                                                                                                                                                                                                                                                                                                                                                                                                                                                                                                                                                                                                                                                         I've always thought the solution was more and better transit options. If you could get anywhere in the NYC from anywhere in NYC in 30min, that would open up a lot of areas where there is housing stock to people who are living in NYC more for the employment options than the urban-chic lifestyle (and there are plenty of people who fit that bill).\\n\\nObviously, that is pie-in-the-sky idea and probably as equally impossible as building enough units to outpace demand. But we can dream!   \n",
              "7                                                                                                                                                                                                                                                                                                                                                                                                                                                                                                                                                                                                                                                                                                                                                                                                                                                                                                                                                                                                                                                                                                                                                                                                               Thanks for explaining this, I've always wondered with the \"low-income\" units cost like $2,500 a month and the income max is something like $110k. That's completely unaffordable   \n",
              "0    Man, all these comments and not a single one even remotely relevant to the topic at hand. Are we on reddit or twitter or NYPost comment section. It doesn't matter anymore. Just shoot your load that is marginally related to the topic. \\n\\nBut basically:\\n\\n* NYC tried to create a private-public partnership with developers. 421a essentially. Massive property tax abatements in exchange for X percentage of affordable units.\\n\\n* Turns out most of the affordable units created are not affordable at all. \\n\\n* Affordability is calculated based on AMI (area median income), but HUD forces NYC to calculate the AMI based on greater NYC area, not just the city, or borough, or specific neighborhood. \\n\\n* Turns out poor people in Bronx and Queens and Brooklyn make a lot less money than people in New Rochelle, or whatever. \\n\\n* When an affordable unit is built, it is often listed as eligible for 70-110% AMI, which is completely unaffordable for anyone actually low income. \\n\\n* End result is that a lot of communities end up being stoutly against any new development, because they can see with their own eyes that none of the new stuff is actually for them. \\n\\n* The affordable housing program ended up accidentally creating a whole new type and generation of NIMBYS.\\n\\nI ad-libbed on the last two points. But this is where we are now.   \n",
              "\n",
              "     score                date  \n",
              "73     -13 2024-05-14 15:56:01  \n",
              "36     -12 2024-05-14 16:52:40  \n",
              "117     -9 2024-05-14 14:45:16  \n",
              "48      -8 2024-05-14 14:11:17  \n",
              "87      -8 2024-05-14 14:34:02  \n",
              "..     ...                 ...  \n",
              "2       47 2024-05-14 13:41:21  \n",
              "1       66 2024-05-14 13:22:31  \n",
              "15      69 2024-05-14 13:53:34  \n",
              "7       89 2024-05-14 16:18:01  \n",
              "0      220 2024-05-14 15:46:33  \n",
              "\n",
              "[160 rows x 5 columns]"
            ],
            "text/html": [
              "\n",
              "  <div id=\"df-70a1fe24-e61f-4173-9e7a-76800d8ee21d\" class=\"colab-df-container\">\n",
              "    <div>\n",
              "<style scoped>\n",
              "    .dataframe tbody tr th:only-of-type {\n",
              "        vertical-align: middle;\n",
              "    }\n",
              "\n",
              "    .dataframe tbody tr th {\n",
              "        vertical-align: top;\n",
              "    }\n",
              "\n",
              "    .dataframe thead th {\n",
              "        text-align: right;\n",
              "    }\n",
              "</style>\n",
              "<table border=\"1\" class=\"dataframe\">\n",
              "  <thead>\n",
              "    <tr style=\"text-align: right;\">\n",
              "      <th></th>\n",
              "      <th>parent_id</th>\n",
              "      <th>author</th>\n",
              "      <th>parent_text</th>\n",
              "      <th>score</th>\n",
              "      <th>date</th>\n",
              "    </tr>\n",
              "  </thead>\n",
              "  <tbody>\n",
              "    <tr>\n",
              "      <th>73</th>\n",
              "      <td>l40o41z</td>\n",
              "      <td>mad_king_soup</td>\n",
              "      <td>So you basically want the opportunities afforded by a big city without the cost and without having to participate in the “urban lifestyle”, right?\\n\\nDamn, some people just want everything their way</td>\n",
              "      <td>-13</td>\n",
              "      <td>2024-05-14 15:56:01</td>\n",
              "    </tr>\n",
              "    <tr>\n",
              "      <th>36</th>\n",
              "      <td>l40y9f4</td>\n",
              "      <td>Internal-Spray-7977</td>\n",
              "      <td>110k isn't \"unaffordable\" by NYC standards. New grads in some industries make more than that. It's just a result of there being demand for more housing in nearby locations because people who make 110k are willing to commute to save 1500/mo. It's a supply shortage.</td>\n",
              "      <td>-12</td>\n",
              "      <td>2024-05-14 16:52:40</td>\n",
              "    </tr>\n",
              "    <tr>\n",
              "      <th>117</th>\n",
              "      <td>l40bp7s</td>\n",
              "      <td>Far_Indication_1665</td>\n",
              "      <td>Your cold hearted bastard nature on full display, again.</td>\n",
              "      <td>-9</td>\n",
              "      <td>2024-05-14 14:45:16</td>\n",
              "    </tr>\n",
              "    <tr>\n",
              "      <th>48</th>\n",
              "      <td>l405ysw</td>\n",
              "      <td>TarumK</td>\n",
              "      <td>I mean Nyc already has decent transit. It's just a huge city. I'm sure Tokyo or whatever is better but still, it's never gonna be the case that you can get from the Bronx to Coney island in 30 mins, or anything similar involving suburbs. I don't know how you'd have something like that in a city this big. I don't think there are any metro areas of 20 million people where people can get anywhere in half an hour. \\n\\nAlso of housing options that aren't chic lol. Basically anywhere in the Bronx and most of Brooklyn and Queens are not chic. Nothing chic about Sheapshead Bay.</td>\n",
              "      <td>-8</td>\n",
              "      <td>2024-05-14 14:11:17</td>\n",
              "    </tr>\n",
              "    <tr>\n",
              "      <th>87</th>\n",
              "      <td>l409sah</td>\n",
              "      <td>Rottimer</td>\n",
              "      <td>Those rules didn’t come out of nowhere.  I agree there is a lot of NIMBY protectionism that makes building in NYC long and expensive.  But there are also rules so that people aren’t fucked over by developers that will never have to live in or around the structures they build.</td>\n",
              "      <td>-8</td>\n",
              "      <td>2024-05-14 14:34:02</td>\n",
              "    </tr>\n",
              "    <tr>\n",
              "      <th>...</th>\n",
              "      <td>...</td>\n",
              "      <td>...</td>\n",
              "      <td>...</td>\n",
              "      <td>...</td>\n",
              "      <td>...</td>\n",
              "    </tr>\n",
              "    <tr>\n",
              "      <th>2</th>\n",
              "      <td>l4014fm</td>\n",
              "      <td>Puzzleheaded_Will352</td>\n",
              "      <td>Just fucking build already Jesus Christ. How many times are we going to talk about there not being enough housing before we…build some damn housing.</td>\n",
              "      <td>47</td>\n",
              "      <td>2024-05-14 13:41:21</td>\n",
              "    </tr>\n",
              "    <tr>\n",
              "      <th>1</th>\n",
              "      <td>l3zy7ba</td>\n",
              "      <td>TarumK</td>\n",
              "      <td>Is there any realistic way housing could be affordable in NYC without a massive drop in demand? Like, if you make housing way below market rate people are just gonna stay in it forever, as happens with rent control and public housing, so it's still gonna be functionally unavailable for most people that would want.</td>\n",
              "      <td>66</td>\n",
              "      <td>2024-05-14 13:22:31</td>\n",
              "    </tr>\n",
              "    <tr>\n",
              "      <th>15</th>\n",
              "      <td>l4032t6</td>\n",
              "      <td>hereswhatipicked</td>\n",
              "      <td>I've always thought the solution was more and better transit options. If you could get anywhere in the NYC from anywhere in NYC in 30min, that would open up a lot of areas where there is housing stock to people who are living in NYC more for the employment options than the urban-chic lifestyle (and there are plenty of people who fit that bill).\\n\\nObviously, that is pie-in-the-sky idea and probably as equally impossible as building enough units to outpace demand. But we can dream!</td>\n",
              "      <td>69</td>\n",
              "      <td>2024-05-14 13:53:34</td>\n",
              "    </tr>\n",
              "    <tr>\n",
              "      <th>7</th>\n",
              "      <td>l40s0jl</td>\n",
              "      <td>soflahokie</td>\n",
              "      <td>Thanks for explaining this, I've always wondered with the \"low-income\" units cost like $2,500 a month and the income max is something like $110k. That's completely unaffordable</td>\n",
              "      <td>89</td>\n",
              "      <td>2024-05-14 16:18:01</td>\n",
              "    </tr>\n",
              "    <tr>\n",
              "      <th>0</th>\n",
              "      <td>l40meoy</td>\n",
              "      <td>99hoglagoons</td>\n",
              "      <td>Man, all these comments and not a single one even remotely relevant to the topic at hand. Are we on reddit or twitter or NYPost comment section. It doesn't matter anymore. Just shoot your load that is marginally related to the topic. \\n\\nBut basically:\\n\\n* NYC tried to create a private-public partnership with developers. 421a essentially. Massive property tax abatements in exchange for X percentage of affordable units.\\n\\n* Turns out most of the affordable units created are not affordable at all. \\n\\n* Affordability is calculated based on AMI (area median income), but HUD forces NYC to calculate the AMI based on greater NYC area, not just the city, or borough, or specific neighborhood. \\n\\n* Turns out poor people in Bronx and Queens and Brooklyn make a lot less money than people in New Rochelle, or whatever. \\n\\n* When an affordable unit is built, it is often listed as eligible for 70-110% AMI, which is completely unaffordable for anyone actually low income. \\n\\n* End result is that a lot of communities end up being stoutly against any new development, because they can see with their own eyes that none of the new stuff is actually for them. \\n\\n* The affordable housing program ended up accidentally creating a whole new type and generation of NIMBYS.\\n\\nI ad-libbed on the last two points. But this is where we are now.</td>\n",
              "      <td>220</td>\n",
              "      <td>2024-05-14 15:46:33</td>\n",
              "    </tr>\n",
              "  </tbody>\n",
              "</table>\n",
              "<p>160 rows × 5 columns</p>\n",
              "</div>\n",
              "    <div class=\"colab-df-buttons\">\n",
              "\n",
              "  <div class=\"colab-df-container\">\n",
              "    <button class=\"colab-df-convert\" onclick=\"convertToInteractive('df-70a1fe24-e61f-4173-9e7a-76800d8ee21d')\"\n",
              "            title=\"Convert this dataframe to an interactive table.\"\n",
              "            style=\"display:none;\">\n",
              "\n",
              "  <svg xmlns=\"http://www.w3.org/2000/svg\" height=\"24px\" viewBox=\"0 -960 960 960\">\n",
              "    <path d=\"M120-120v-720h720v720H120Zm60-500h600v-160H180v160Zm220 220h160v-160H400v160Zm0 220h160v-160H400v160ZM180-400h160v-160H180v160Zm440 0h160v-160H620v160ZM180-180h160v-160H180v160Zm440 0h160v-160H620v160Z\"/>\n",
              "  </svg>\n",
              "    </button>\n",
              "\n",
              "  <style>\n",
              "    .colab-df-container {\n",
              "      display:flex;\n",
              "      gap: 12px;\n",
              "    }\n",
              "\n",
              "    .colab-df-convert {\n",
              "      background-color: #E8F0FE;\n",
              "      border: none;\n",
              "      border-radius: 50%;\n",
              "      cursor: pointer;\n",
              "      display: none;\n",
              "      fill: #1967D2;\n",
              "      height: 32px;\n",
              "      padding: 0 0 0 0;\n",
              "      width: 32px;\n",
              "    }\n",
              "\n",
              "    .colab-df-convert:hover {\n",
              "      background-color: #E2EBFA;\n",
              "      box-shadow: 0px 1px 2px rgba(60, 64, 67, 0.3), 0px 1px 3px 1px rgba(60, 64, 67, 0.15);\n",
              "      fill: #174EA6;\n",
              "    }\n",
              "\n",
              "    .colab-df-buttons div {\n",
              "      margin-bottom: 4px;\n",
              "    }\n",
              "\n",
              "    [theme=dark] .colab-df-convert {\n",
              "      background-color: #3B4455;\n",
              "      fill: #D2E3FC;\n",
              "    }\n",
              "\n",
              "    [theme=dark] .colab-df-convert:hover {\n",
              "      background-color: #434B5C;\n",
              "      box-shadow: 0px 1px 3px 1px rgba(0, 0, 0, 0.15);\n",
              "      filter: drop-shadow(0px 1px 2px rgba(0, 0, 0, 0.3));\n",
              "      fill: #FFFFFF;\n",
              "    }\n",
              "  </style>\n",
              "\n",
              "    <script>\n",
              "      const buttonEl =\n",
              "        document.querySelector('#df-70a1fe24-e61f-4173-9e7a-76800d8ee21d button.colab-df-convert');\n",
              "      buttonEl.style.display =\n",
              "        google.colab.kernel.accessAllowed ? 'block' : 'none';\n",
              "\n",
              "      async function convertToInteractive(key) {\n",
              "        const element = document.querySelector('#df-70a1fe24-e61f-4173-9e7a-76800d8ee21d');\n",
              "        const dataTable =\n",
              "          await google.colab.kernel.invokeFunction('convertToInteractive',\n",
              "                                                    [key], {});\n",
              "        if (!dataTable) return;\n",
              "\n",
              "        const docLinkHtml = 'Like what you see? Visit the ' +\n",
              "          '<a target=\"_blank\" href=https://colab.research.google.com/notebooks/data_table.ipynb>data table notebook</a>'\n",
              "          + ' to learn more about interactive tables.';\n",
              "        element.innerHTML = '';\n",
              "        dataTable['output_type'] = 'display_data';\n",
              "        await google.colab.output.renderOutput(dataTable, element);\n",
              "        const docLink = document.createElement('div');\n",
              "        docLink.innerHTML = docLinkHtml;\n",
              "        element.appendChild(docLink);\n",
              "      }\n",
              "    </script>\n",
              "  </div>\n",
              "\n",
              "\n",
              "<div id=\"df-dfeacab6-01b7-4e70-886a-99c63d009507\">\n",
              "  <button class=\"colab-df-quickchart\" onclick=\"quickchart('df-dfeacab6-01b7-4e70-886a-99c63d009507')\"\n",
              "            title=\"Suggest charts\"\n",
              "            style=\"display:none;\">\n",
              "\n",
              "<svg xmlns=\"http://www.w3.org/2000/svg\" height=\"24px\"viewBox=\"0 0 24 24\"\n",
              "     width=\"24px\">\n",
              "    <g>\n",
              "        <path d=\"M19 3H5c-1.1 0-2 .9-2 2v14c0 1.1.9 2 2 2h14c1.1 0 2-.9 2-2V5c0-1.1-.9-2-2-2zM9 17H7v-7h2v7zm4 0h-2V7h2v10zm4 0h-2v-4h2v4z\"/>\n",
              "    </g>\n",
              "</svg>\n",
              "  </button>\n",
              "\n",
              "<style>\n",
              "  .colab-df-quickchart {\n",
              "      --bg-color: #E8F0FE;\n",
              "      --fill-color: #1967D2;\n",
              "      --hover-bg-color: #E2EBFA;\n",
              "      --hover-fill-color: #174EA6;\n",
              "      --disabled-fill-color: #AAA;\n",
              "      --disabled-bg-color: #DDD;\n",
              "  }\n",
              "\n",
              "  [theme=dark] .colab-df-quickchart {\n",
              "      --bg-color: #3B4455;\n",
              "      --fill-color: #D2E3FC;\n",
              "      --hover-bg-color: #434B5C;\n",
              "      --hover-fill-color: #FFFFFF;\n",
              "      --disabled-bg-color: #3B4455;\n",
              "      --disabled-fill-color: #666;\n",
              "  }\n",
              "\n",
              "  .colab-df-quickchart {\n",
              "    background-color: var(--bg-color);\n",
              "    border: none;\n",
              "    border-radius: 50%;\n",
              "    cursor: pointer;\n",
              "    display: none;\n",
              "    fill: var(--fill-color);\n",
              "    height: 32px;\n",
              "    padding: 0;\n",
              "    width: 32px;\n",
              "  }\n",
              "\n",
              "  .colab-df-quickchart:hover {\n",
              "    background-color: var(--hover-bg-color);\n",
              "    box-shadow: 0 1px 2px rgba(60, 64, 67, 0.3), 0 1px 3px 1px rgba(60, 64, 67, 0.15);\n",
              "    fill: var(--button-hover-fill-color);\n",
              "  }\n",
              "\n",
              "  .colab-df-quickchart-complete:disabled,\n",
              "  .colab-df-quickchart-complete:disabled:hover {\n",
              "    background-color: var(--disabled-bg-color);\n",
              "    fill: var(--disabled-fill-color);\n",
              "    box-shadow: none;\n",
              "  }\n",
              "\n",
              "  .colab-df-spinner {\n",
              "    border: 2px solid var(--fill-color);\n",
              "    border-color: transparent;\n",
              "    border-bottom-color: var(--fill-color);\n",
              "    animation:\n",
              "      spin 1s steps(1) infinite;\n",
              "  }\n",
              "\n",
              "  @keyframes spin {\n",
              "    0% {\n",
              "      border-color: transparent;\n",
              "      border-bottom-color: var(--fill-color);\n",
              "      border-left-color: var(--fill-color);\n",
              "    }\n",
              "    20% {\n",
              "      border-color: transparent;\n",
              "      border-left-color: var(--fill-color);\n",
              "      border-top-color: var(--fill-color);\n",
              "    }\n",
              "    30% {\n",
              "      border-color: transparent;\n",
              "      border-left-color: var(--fill-color);\n",
              "      border-top-color: var(--fill-color);\n",
              "      border-right-color: var(--fill-color);\n",
              "    }\n",
              "    40% {\n",
              "      border-color: transparent;\n",
              "      border-right-color: var(--fill-color);\n",
              "      border-top-color: var(--fill-color);\n",
              "    }\n",
              "    60% {\n",
              "      border-color: transparent;\n",
              "      border-right-color: var(--fill-color);\n",
              "    }\n",
              "    80% {\n",
              "      border-color: transparent;\n",
              "      border-right-color: var(--fill-color);\n",
              "      border-bottom-color: var(--fill-color);\n",
              "    }\n",
              "    90% {\n",
              "      border-color: transparent;\n",
              "      border-bottom-color: var(--fill-color);\n",
              "    }\n",
              "  }\n",
              "</style>\n",
              "\n",
              "  <script>\n",
              "    async function quickchart(key) {\n",
              "      const quickchartButtonEl =\n",
              "        document.querySelector('#' + key + ' button');\n",
              "      quickchartButtonEl.disabled = true;  // To prevent multiple clicks.\n",
              "      quickchartButtonEl.classList.add('colab-df-spinner');\n",
              "      try {\n",
              "        const charts = await google.colab.kernel.invokeFunction(\n",
              "            'suggestCharts', [key], {});\n",
              "      } catch (error) {\n",
              "        console.error('Error during call to suggestCharts:', error);\n",
              "      }\n",
              "      quickchartButtonEl.classList.remove('colab-df-spinner');\n",
              "      quickchartButtonEl.classList.add('colab-df-quickchart-complete');\n",
              "    }\n",
              "    (() => {\n",
              "      let quickchartButtonEl =\n",
              "        document.querySelector('#df-dfeacab6-01b7-4e70-886a-99c63d009507 button');\n",
              "      quickchartButtonEl.style.display =\n",
              "        google.colab.kernel.accessAllowed ? 'block' : 'none';\n",
              "    })();\n",
              "  </script>\n",
              "</div>\n",
              "\n",
              "    </div>\n",
              "  </div>\n"
            ],
            "application/vnd.google.colaboratory.intrinsic+json": {
              "type": "dataframe",
              "summary": "{\n  \"name\": \"comments_df\",\n  \"rows\": 160,\n  \"fields\": [\n    {\n      \"column\": \"parent_id\",\n      \"properties\": {\n        \"dtype\": \"string\",\n        \"num_unique_values\": 160,\n        \"samples\": [\n          \"l4075wq\",\n          \"l40jws8\",\n          \"l406cig\"\n        ],\n        \"semantic_type\": \"\",\n        \"description\": \"\"\n      }\n    },\n    {\n      \"column\": \"author\",\n      \"properties\": {\n        \"dtype\": \"category\",\n        \"num_unique_values\": 62,\n        \"samples\": [\n          \"asmusedtarmac\",\n          \"orangehorton\",\n          \"mad_king_soup\"\n        ],\n        \"semantic_type\": \"\",\n        \"description\": \"\"\n      }\n    },\n    {\n      \"column\": \"parent_text\",\n      \"properties\": {\n        \"dtype\": \"string\",\n        \"num_unique_values\": 160,\n        \"samples\": [\n          \"I think you\\u2019re on to something!\",\n          \"No it\\u2019s not. Developers will be falling over themselves trying to build housing if we made it legal.\",\n          \"Buildings depreciate- folks that stay forever in them at artificially low rent will mean buildings are no longer viable to keep the housing on market. Using chinatown as a example - tons of old old units (150 yrs +)locked away in forever low housing and in bad shape and will continue to be worse that would have long been torn down and rebuilt if they were able to reset the rent and keep the units rent regulated\"\n        ],\n        \"semantic_type\": \"\",\n        \"description\": \"\"\n      }\n    },\n    {\n      \"column\": \"score\",\n      \"properties\": {\n        \"dtype\": \"number\",\n        \"std\": 21,\n        \"min\": -13,\n        \"max\": 220,\n        \"num_unique_values\": 37,\n        \"samples\": [\n          6,\n          2,\n          -7\n        ],\n        \"semantic_type\": \"\",\n        \"description\": \"\"\n      }\n    },\n    {\n      \"column\": \"date\",\n      \"properties\": {\n        \"dtype\": \"date\",\n        \"min\": \"2024-05-14 13:16:25\",\n        \"max\": \"2024-09-04 22:10:59\",\n        \"num_unique_values\": 158,\n        \"samples\": [\n          \"2024-05-14 15:28:21\",\n          \"2024-05-14 16:04:23\",\n          \"2024-05-14 15:49:06\"\n        ],\n        \"semantic_type\": \"\",\n        \"description\": \"\"\n      }\n    }\n  ]\n}"
            }
          },
          "metadata": {},
          "execution_count": 19
        }
      ]
    },
    {
      "cell_type": "markdown",
      "source": [
        "## 2. Data Cleansing\n",
        "\n",
        "After an initial round of word frequency analysis, I conducted an important methodological adjustment which I identified additional domain-specific terms, such as \"housing,\" \"NYC,\" \"people,\" \"building,\" and \"NewYork,\" which were removed during the stopword elimination process. While these words carry inherent meaning, they are less informative due to their high recurrence due to the nature of the post. Excluding them will highlight more meaningful patterns in the dataset."
      ],
      "metadata": {
        "id": "_LpbvUH8HeEi"
      }
    },
    {
      "cell_type": "code",
      "source": [
        "! pip install nltk"
      ],
      "metadata": {
        "colab": {
          "base_uri": "https://localhost:8080/"
        },
        "id": "YgAU4ZiaHf1Q",
        "outputId": "ca5108c0-849e-4fa2-9a8b-49d35297d1f7",
        "collapsed": true
      },
      "execution_count": 20,
      "outputs": [
        {
          "output_type": "stream",
          "name": "stdout",
          "text": [
            "Requirement already satisfied: nltk in /usr/local/lib/python3.10/dist-packages (3.9.1)\n",
            "Requirement already satisfied: click in /usr/local/lib/python3.10/dist-packages (from nltk) (8.1.7)\n",
            "Requirement already satisfied: joblib in /usr/local/lib/python3.10/dist-packages (from nltk) (1.4.2)\n",
            "Requirement already satisfied: regex>=2021.8.3 in /usr/local/lib/python3.10/dist-packages (from nltk) (2024.9.11)\n",
            "Requirement already satisfied: tqdm in /usr/local/lib/python3.10/dist-packages (from nltk) (4.66.6)\n"
          ]
        }
      ]
    },
    {
      "cell_type": "code",
      "source": [
        "import nltk\n",
        "import string"
      ],
      "metadata": {
        "id": "O2xaDvxrHoqt"
      },
      "execution_count": 21,
      "outputs": []
    },
    {
      "cell_type": "code",
      "source": [
        "from nltk import pos_tag\n",
        "import re\n",
        "from nltk.corpus import wordnet\n",
        "from nltk.stem import WordNetLemmatizer\n",
        "from nltk.tokenize import word_tokenize\n",
        "from nltk.corpus import stopwords\n",
        "from nltk.corpus.reader.wordnet import VERB, NOUN, ADJ, ADV"
      ],
      "metadata": {
        "id": "hpzI4EX2t-gb"
      },
      "execution_count": 22,
      "outputs": []
    },
    {
      "cell_type": "code",
      "source": [
        "# Download necessary NLTK resources\n",
        "nltk.download('punkt_tab')\n",
        "nltk.download('stopwords')\n",
        "nltk.download('wordnet')\n",
        "nltk.download('omw-1.4')"
      ],
      "metadata": {
        "colab": {
          "base_uri": "https://localhost:8080/"
        },
        "id": "0mFN09ztt_H-",
        "outputId": "50c737e5-82e0-4541-a018-13278462a103",
        "collapsed": true
      },
      "execution_count": 23,
      "outputs": [
        {
          "output_type": "stream",
          "name": "stderr",
          "text": [
            "[nltk_data] Downloading package punkt_tab to /root/nltk_data...\n",
            "[nltk_data]   Unzipping tokenizers/punkt_tab.zip.\n",
            "[nltk_data] Downloading package stopwords to /root/nltk_data...\n",
            "[nltk_data]   Unzipping corpora/stopwords.zip.\n",
            "[nltk_data] Downloading package wordnet to /root/nltk_data...\n",
            "[nltk_data] Downloading package omw-1.4 to /root/nltk_data...\n"
          ]
        },
        {
          "output_type": "execute_result",
          "data": {
            "text/plain": [
              "True"
            ]
          },
          "metadata": {},
          "execution_count": 23
        }
      ]
    },
    {
      "cell_type": "code",
      "source": [
        "# Initialize lemmatizer and stopwords\n",
        "lemmatizer = WordNetLemmatizer()\n",
        "stop_words = set(stopwords.words('english'))\n",
        "custom_stopwords = {\"housing\",\"affordable\",\"affordability\",\"unit\",\"nyc\", \"building\",\"city\", \"people\", \"newyork\", \"want\",\n",
        "                    \"would\", \"u\", \"could\", \"even\", \"like\", \"year\", \"think\", \"make\", \"got\",\"get\",\"http\"}\n",
        "stop_words.update(custom_stopwords)"
      ],
      "metadata": {
        "id": "RW82zN87WMJU"
      },
      "execution_count": 24,
      "outputs": []
    },
    {
      "cell_type": "code",
      "source": [
        "import nltk\n",
        "nltk.download('averaged_perceptron_tagger_eng')"
      ],
      "metadata": {
        "colab": {
          "base_uri": "https://localhost:8080/"
        },
        "id": "6FP4f_LiSWoF",
        "outputId": "349d92bf-ae75-49aa-d547-c582a09edb9b"
      },
      "execution_count": 25,
      "outputs": [
        {
          "output_type": "stream",
          "name": "stderr",
          "text": [
            "[nltk_data] Downloading package averaged_perceptron_tagger_eng to\n",
            "[nltk_data]     /root/nltk_data...\n",
            "[nltk_data]   Unzipping taggers/averaged_perceptron_tagger_eng.zip.\n"
          ]
        },
        {
          "output_type": "execute_result",
          "data": {
            "text/plain": [
              "True"
            ]
          },
          "metadata": {},
          "execution_count": 25
        }
      ]
    },
    {
      "cell_type": "code",
      "source": [
        "# Function to get POS tag for WordNet lemmatization\n",
        "def get_wordnet_pos(word):\n",
        "    \"\"\"Map POS tag to first character lemmatize() accepts.\"\"\"\n",
        "    tag = nltk.pos_tag([word])[0][1][0].upper()  # Get the POS tag of the word\n",
        "    tag_dict = {\"J\": wordnet.ADJ,  # Adjective\n",
        "                \"N\": wordnet.NOUN,  # Noun\n",
        "                \"V\": wordnet.VERB,  # Verb\n",
        "                \"R\": wordnet.ADV}  # Adverb\n",
        "    return tag_dict.get(tag, wordnet.NOUN)  # Default to noun"
      ],
      "metadata": {
        "id": "J7CTdWAcSOdu"
      },
      "execution_count": 26,
      "outputs": []
    },
    {
      "cell_type": "code",
      "source": [
        "# Function to clean, lemmatize, and remove stopwords\n",
        "def clean_and_lemmatize(text):\n",
        "    if not isinstance(text, str):  # Handle non-string inputs\n",
        "        return ''\n",
        "\n",
        "    # Remove unwanted symbols using regex\n",
        "    text = re.sub(r'[\\n\\r\\t]+|[\\*>]+|[^\\w\\s]', ' ', text)  # Remove unwanted symbols\n",
        "    text = re.sub(r'\\s+', ' ', text).strip()  # Normalize spaces\n",
        "\n",
        "    # Tokenize and lowercase\n",
        "    tokens = word_tokenize(text.lower())\n",
        "\n",
        "    # Remove non-alphabetic tokens and stopwords, then lemmatize\n",
        "    lemmatized_tokens = [\n",
        "        lemmatizer.lemmatize(word, get_wordnet_pos(word)) for word in tokens\n",
        "        if word.isalpha() and word not in stop_words\n",
        "    ]\n",
        "\n",
        "    return ' '.join(lemmatized_tokens)"
      ],
      "metadata": {
        "id": "PWQM0qQ5SRY8"
      },
      "execution_count": 27,
      "outputs": []
    },
    {
      "cell_type": "code",
      "source": [
        "# Apply the function to the 'parent_text' column\n",
        "comments_df['lemmatized_text'] = comments_df['parent_text'].apply(clean_and_lemmatize)"
      ],
      "metadata": {
        "id": "c-ApQ-JTSZCM",
        "collapsed": true
      },
      "execution_count": 28,
      "outputs": []
    },
    {
      "cell_type": "code",
      "source": [
        "# Check results by displaying Row 0\n",
        "row_index = 0\n",
        "print(\"Original Text:\", comments_df.loc[row_index, 'parent_text'])\n",
        "print(\"Lemmatized Text:\", comments_df.loc[row_index, 'lemmatized_text'])\n"
      ],
      "metadata": {
        "colab": {
          "base_uri": "https://localhost:8080/"
        },
        "id": "Dk3G9d5c5cIs",
        "outputId": "d82e4778-accf-4d36-b5c0-d67b1954a5a5",
        "collapsed": true
      },
      "execution_count": 29,
      "outputs": [
        {
          "output_type": "stream",
          "name": "stdout",
          "text": [
            "Original Text: Man, all these comments and not a single one even remotely relevant to the topic at hand. Are we on reddit or twitter or NYPost comment section. It doesn't matter anymore. Just shoot your load that is marginally related to the topic. \n",
            "\n",
            "But basically:\n",
            "\n",
            "* NYC tried to create a private-public partnership with developers. 421a essentially. Massive property tax abatements in exchange for X percentage of affordable units.\n",
            "\n",
            "* Turns out most of the affordable units created are not affordable at all. \n",
            "\n",
            "* Affordability is calculated based on AMI (area median income), but HUD forces NYC to calculate the AMI based on greater NYC area, not just the city, or borough, or specific neighborhood. \n",
            "\n",
            "* Turns out poor people in Bronx and Queens and Brooklyn make a lot less money than people in New Rochelle, or whatever. \n",
            "\n",
            "* When an affordable unit is built, it is often listed as eligible for 70-110% AMI, which is completely unaffordable for anyone actually low income. \n",
            "\n",
            "* End result is that a lot of communities end up being stoutly against any new development, because they can see with their own eyes that none of the new stuff is actually for them. \n",
            "\n",
            "* The affordable housing program ended up accidentally creating a whole new type and generation of NIMBYS.\n",
            "\n",
            "I ad-libbed on the last two points. But this is where we are now.\n",
            "Lemmatized Text: man comment single one remotely relevant topic hand reddit twitter nypost comment section matter anymore shoot load marginally related topic basically try create private public partnership developer essentially massive property tax abatement exchange x percentage unit turn unit create calculate base ami area median income hud force calculate ami base great area borough specific neighborhood turn poor bronx queen brooklyn lot less money new rochelle whatever built often list eligible ami completely unaffordable anyone actually low income end result lot community end stoutly new development see eye none new stuff actually program end accidentally create whole new type generation nimby ad libbed last two point\n"
          ]
        }
      ]
    },
    {
      "cell_type": "markdown",
      "source": [
        "## 3. TEXT ANALYSIS"
      ],
      "metadata": {
        "id": "6ngzyHfW9sqw"
      }
    },
    {
      "cell_type": "markdown",
      "source": [
        "### 3.1 Term Frequency Analaysis\n",
        "\n",
        "Word frequency analysis provides a starting point for understanding public discussion.  In term frequency analysis, “tax” is weighted the highest, followed by “market”. In TF-IDF analysis, with the lowest 20 TF-IDF scores, topics such as \"nimby\" (Not In My Backyard), \"abatement” and “condo” dominated the lower end of the TF-IDF score, suggesting core discussions in the discourse. High TF-IDF terms reveal more specific and contextually significant ideas that occur less frequently across the corpus but carry high importance in individual discussions. Terms such as \"demand,\" \"supply,\" and \"market\" suggest a focus on policy debates regarding supply-side vs. demand-side solutions. The appearance of emotionally charged terms like \"fuck\" signals the intensity and frustration surrounding this issue, suggesting that public opinion is not only analytical but also deeply emotional. However, the outcomes show over-presentation of generic terms such as \"ops\",\"lol\", \"new\", and \"year\", which are inherent in Reddit analysis and dilute the specificity of insights. Meanwhile, the outcome does not distinguish between positive and negative annotation of terms. Thus, I paired topic modelling to provide richer and more nuanced insights."
      ],
      "metadata": {
        "id": "3T5W-x6OK_1Q"
      }
    },
    {
      "cell_type": "code",
      "source": [
        "!pip install tomotopy"
      ],
      "metadata": {
        "id": "ptgxWbG14O9_",
        "colab": {
          "base_uri": "https://localhost:8080/"
        },
        "outputId": "7051c35f-7f4c-4d49-e536-8ae65edd2731"
      },
      "execution_count": 30,
      "outputs": [
        {
          "output_type": "stream",
          "name": "stdout",
          "text": [
            "Collecting tomotopy\n",
            "  Downloading tomotopy-0.13.0-cp310-cp310-manylinux_2_17_x86_64.manylinux2014_x86_64.whl.metadata (30 kB)\n",
            "Requirement already satisfied: numpy<2,>=1.11.0 in /usr/local/lib/python3.10/dist-packages (from tomotopy) (1.26.4)\n",
            "Downloading tomotopy-0.13.0-cp310-cp310-manylinux_2_17_x86_64.manylinux2014_x86_64.whl (11.6 MB)\n",
            "\u001b[2K   \u001b[90m━━━━━━━━━━━━━━━━━━━━━━━━━━━━━━━━━━━━━━━━\u001b[0m \u001b[32m11.6/11.6 MB\u001b[0m \u001b[31m42.4 MB/s\u001b[0m eta \u001b[36m0:00:00\u001b[0m\n",
            "\u001b[?25hInstalling collected packages: tomotopy\n",
            "Successfully installed tomotopy-0.13.0\n"
          ]
        }
      ]
    },
    {
      "cell_type": "code",
      "source": [
        "import tomotopy as tp\n",
        "from sklearn.feature_extraction.text import CountVectorizer\n",
        "from sklearn.feature_extraction.text import TfidfVectorizer\n",
        "from gensim import corpora\n",
        "from gensim.models.ldamodel import LdaModel\n",
        "from nltk.sentiment import SentimentIntensityAnalyzer\n",
        "from wordcloud import WordCloud\n",
        "import matplotlib.pyplot as plt"
      ],
      "metadata": {
        "id": "hm1lzNTI4UZ8"
      },
      "execution_count": 31,
      "outputs": []
    },
    {
      "cell_type": "code",
      "source": [
        "# Function to generate frequency list from lemmatized text\n",
        "def word_frequency_analysis(dataframe, text_column):\n",
        "    # Combine all rows in the specified column into a single string\n",
        "    all_text = ' '.join(dataframe[text_column].dropna())\n",
        "\n",
        "    # Tokenize and count word frequencies\n",
        "    words = all_text.split()  # Split by whitespace\n",
        "    frequency = {}\n",
        "    for word in words:\n",
        "        frequency[word] = frequency.get(word, 0) + 1\n",
        "\n",
        "    # Convert frequency dictionary into a DataFrame\n",
        "    Freqdf = pd.DataFrame(frequency.items(), columns=['word', 'frequency'])\n",
        "    Freqdf['weighted_percentage'] = round((Freqdf['frequency'] / Freqdf['frequency'].sum()) * 100, 2)\n",
        "\n",
        "    # Sort by frequency in descending order\n",
        "    return Freqdf.sort_values('frequency', ascending=False).reset_index(drop=True)\n",
        "\n",
        "# Apply the function to the lemmatized_text column\n",
        "word_freq_df = word_frequency_analysis(comments_df, 'lemmatized_text')\n",
        "\n",
        "# Display the top 20 most frequent words\n",
        "print(word_freq_df.head(20))"
      ],
      "metadata": {
        "id": "5-OORJ-Wc87Q",
        "colab": {
          "base_uri": "https://localhost:8080/"
        },
        "outputId": "5f1766a7-e455-4dd6-b67e-60d765f9a3e1"
      },
      "execution_count": 32,
      "outputs": [
        {
          "output_type": "stream",
          "name": "stdout",
          "text": [
            "            word  frequency  weighted_percentage\n",
            "0            tax         49                 1.22\n",
            "1         market         37                 0.92\n",
            "2            new         34                 0.85\n",
            "3       property         33                 0.82\n",
            "4            pay         32                 0.80\n",
            "5           live         32                 0.80\n",
            "6          build         31                 0.77\n",
            "7           rent         30                 0.75\n",
            "8           unit         29                 0.72\n",
            "9           move         28                 0.70\n",
            "10          high         26                 0.65\n",
            "11           one         25                 0.62\n",
            "12        rental         24                 0.60\n",
            "13          year         24                 0.60\n",
            "14         place         24                 0.60\n",
            "15  neighborhood         22                 0.55\n",
            "16        income         22                 0.55\n",
            "17          need         22                 0.55\n",
            "18           low         22                 0.55\n",
            "19           say         21                 0.52\n"
          ]
        }
      ]
    },
    {
      "cell_type": "code",
      "source": [
        "# Select the top 20 most frequent words and plot bar chart\n",
        "top_words = word_freq_df.head(20)\n",
        "\n",
        "colors = [\n",
        "    '#FF9898FF', '#D9636CFF', '#A91E45FF', '#691238FF', '#251714FF'\n",
        "]\n",
        "\n",
        "# Display the bar chart\n",
        "num_bars = len(top_words)\n",
        "gradient_colors = [\n",
        "    colors[int(i * (len(colors) - 1) / (num_bars - 1))] for i in range(num_bars)\n",
        "]\n",
        "\n",
        "plt.figure(figsize=(10, 6))\n",
        "plt.bar(top_words['word'], top_words['frequency'], color=gradient_colors)\n",
        "plt.xlabel('Words', fontsize=12)\n",
        "plt.ylabel('Frequency', fontsize=12)\n",
        "plt.title('Top 20 Word Frequencies in Lemmatized Text', fontsize=14)\n",
        "plt.xticks(rotation=45, ha='right', fontsize=10)\n",
        "plt.tight_layout()\n",
        "plt.show()"
      ],
      "metadata": {
        "id": "wvT46mIL0d9b",
        "colab": {
          "base_uri": "https://localhost:8080/",
          "height": 607
        },
        "outputId": "a27a773d-7f9f-42ff-957e-593fcf5709e6"
      },
      "execution_count": 33,
      "outputs": [
        {
          "output_type": "display_data",
          "data": {
            "text/plain": [
              "<Figure size 1000x600 with 1 Axes>"
            ],
            "image/png": "[encoded data removed]"
          },
          "metadata": {}
        }
      ]
    },
    {
      "cell_type": "code",
      "source": [
        "# Initialize the TF-IDF Vectorizer\n",
        "tfidf_vectorizer = TfidfVectorizer(\n",
        "    max_df=0.8,\n",
        "    min_df=2,\n",
        "    stop_words='english',\n",
        "    max_features=100\n",
        ")\n",
        "\n",
        "# Apply the TF-IDF vectorizer to the lemmatized_text column\n",
        "tfidf_matrix = tfidf_vectorizer.fit_transform(comments_df['lemmatized_text'].dropna())\n",
        "\n",
        "# Get feature names and their corresponding TF-IDF scores\n",
        "tfidf_feature_names = tfidf_vectorizer.get_feature_names_out()\n",
        "tfidf_scores = tfidf_matrix.toarray()\n",
        "\n",
        "# Create a DataFrame to store TF-IDF results\n",
        "tfidf_df = pd.DataFrame(tfidf_scores, columns=tfidf_feature_names)\n",
        "\n",
        "# Sum TF-IDF scores for each term across all documents\n",
        "term_tfidf = tfidf_df.sum(axis=0).sort_values().reset_index()\n",
        "term_tfidf.columns = ['term', 'tfidf_score']\n",
        "\n",
        "# Display the top 20 terms with the highest TF-IDF scores\n",
        "top_20_tfidf = term_tfidf.tail(20).sort_values(by='tfidf_score', ascending=False)\n",
        "print(\"Top 20 Highest TF-IDF Scores:\")\n",
        "print(top_20_tfidf)\n",
        "\n",
        "# Display the top 20 terms with the lowest TF-IDF scores\n",
        "lowest_20_tfidf = term_tfidf.head(20)\n",
        "print(\"\\nTop 20 Lowest TF-IDF Scores:\")\n",
        "print(lowest_20_tfidf)"
      ],
      "metadata": {
        "id": "W7ORCpHC7oiK",
        "colab": {
          "base_uri": "https://localhost:8080/"
        },
        "outputId": "793838cb-18b2-4558-be14-f788c528c391"
      },
      "execution_count": 34,
      "outputs": [
        {
          "output_type": "stream",
          "name": "stdout",
          "text": [
            "Top 20 Highest TF-IDF Scores:\n",
            "            term  tfidf_score\n",
            "99          live     8.397598\n",
            "98         build     8.011868\n",
            "97           new     7.143928\n",
            "96          rent     7.030631\n",
            "95          unit     6.881109\n",
            "94          need     6.715278\n",
            "93           pay     6.431303\n",
            "92          time     6.373833\n",
            "91        market     6.208537\n",
            "90         place     6.127949\n",
            "89          year     5.890887\n",
            "88        demand     5.753755\n",
            "87  neighborhood     5.218476\n",
            "86        supply     5.174751\n",
            "85           way     5.137805\n",
            "84          fuck     4.958263\n",
            "83           say     4.917667\n",
            "82           tax     4.880008\n",
            "81      property     4.748498\n",
            "80          make     4.673360\n",
            "\n",
            "Top 20 Lowest TF-IDF Scores:\n",
            "            term  tfidf_score\n",
            "0      abatement     0.903449\n",
            "1            ops     0.986801\n",
            "2           http     0.988794\n",
            "3            add     1.217097\n",
            "4         viable     1.234140\n",
            "5          condo     1.244742\n",
            "6          break     1.289542\n",
            "7         number     1.554439\n",
            "8            lol     1.681595\n",
            "9        compare     1.711929\n",
            "10       example     1.729510\n",
            "11         small     1.744706\n",
            "12       village     1.753280\n",
            "13         nimby     1.836546\n",
            "14          sell     1.861689\n",
            "15  construction     1.923219\n",
            "16        happen     1.963648\n",
            "17        single     2.007240\n",
            "18       benefit     2.035220\n",
            "19         story     2.039849\n"
          ]
        }
      ]
    },
    {
      "cell_type": "markdown",
      "source": [
        "### 3.2 Topic Modelling and Sentiment Analysis"
      ],
      "metadata": {
        "id": "GjLooObWBaoo"
      }
    },
    {
      "cell_type": "markdown",
      "source": [
        "**3.2.a General Topic Modelling**\n",
        "\n",
        "I applied a rule of thumb that aims about 1 topic per 5–15 comments and started running a general topic modelling using a Latent Dirichlet Allocation (LDA) model to generate top 10 topics (out of 160 discussions). The results were reasonably effective, uncovering specific themes related to supply-demand dynamics, income-based disparities, and the role of policies and developers.\n",
        "Several topics stand out as particularly significant. To be specific, Topic 0 emphasizes issues surrounding \"rental,\" \"demand,\" \"condo,\" and \"supply.\" This suggests a focus on fluctuations in rental demand and challenges in maintaining adequate housing supply, particularly for larger units like condos. The terms \"ops\" and \"change\" might hint at operational adjustments or market responses to shifting demands. Topic 1, with terms like \"income,\"  \"AMI\" and \"cost,\" and \"build\" underscores the relationship between income levels and housing affordability. It highlights systemic challenges, such as how income disparities affect access to housing and the difficulties faced by lower-income households. The inclusion of \"build\" suggests discussions on constructing affordable housing to address these gaps.\n",
        "\n",
        "However, the results are limited by overlapping themes (eg. Topic 0, 8 and 9), lack of contextual clarity, and occasional noise (eg. terms such as “fuck”, else”). To further refine, I conducted sentiment analysis to grouping the data into sentiment categories, then re-running the topic modelling for a more nuanced thematic clustering.\n"
      ],
      "metadata": {
        "id": "nMjwHBgPSQw_"
      }
    },
    {
      "cell_type": "code",
      "source": [
        "# Use the lemmatized parent comments directly\n",
        "parent_training_data = comments_df['lemmatized_text'].dropna().tolist()\n",
        "\n",
        "# Initialize the LDA model\n",
        "num_topics = 10\n",
        "num_topic_words = 10\n",
        "model = tp.LDAModel(k=num_topics)\n",
        "\n",
        "# Add each document to the model\n",
        "for text in parent_training_data:\n",
        "    model.add_doc(text.split())\n",
        "\n",
        "# Train the model\n",
        "print(\"Topic Model Training...\\n\\n\")\n",
        "iterations = 10\n",
        "for i in range(0, 100, iterations):\n",
        "    model.train(iterations)\n",
        "    print(f'Iteration: {i}\\tLog-likelihood: {model.ll_per_word}')\n",
        "\n",
        "# Display Topic Model Results\n",
        "print(\"\\nTopic Model Results:\\n\\n\")\n",
        "topics = []\n",
        "for topic_number in range(num_topics):\n",
        "    topic_words = ' '.join(word for word, prob in model.get_topic_words(topic_id=topic_number, top_n=num_topic_words))\n",
        "    topics.append(topic_words)\n",
        "    print(f\"✨ Topic {topic_number} ✨\\n\\n{topic_words}\\n\")"
      ],
      "metadata": {
        "id": "AIzjSPS4-Sfq"
      },
      "execution_count": null,
      "outputs": []
    },
    {
      "cell_type": "markdown",
      "source": [
        "**3.2.b Topic Modelling for Sentimented Groups**\n",
        "\n",
        "The results show a surprising outcome, with over half neutral comments (51.2%) and a greater portion of positive comments (30%) over negative comments (18.8%). However, it's important to interpret these results critically. Diving deeper, positive comments often focus on proactive approaches such as development, income-based policies, and collaboration with developers, while negative comments emphasize systemic failures like market inequities, zoning challenges, and high costs.\n",
        "\n",
        "The 48 positive comments focus on themes of potential solutions and areas of opportunity for improvement hence suggesting surface-level positivity. In contrast, the 31 negative comments reveal a much stronger biased tone and emotionally charged keywords further emphasize dissatisfactions. For instance, Topic 1 centerred around fordability, infrastructure issues and systemic problems. Terms like \"pay,\" \"afford,\" \"double,\" and \"transit\" highlight the strain of rising costs, inadequate transportation infrastructure, and accessibility issues. The inclusion of \"problem\" and \"shit\" signals a sense of exasperation with persistent barriers to affordable living. Topic 2 captures dissatisfaction with the effects of new development on neighborhoods. Terms like \"developer,\" \"neighborhood,\" and \"change\" suggest negative perceptions of how housing projects impact community dynamics. Words like \"entitle\" and \"income\" may reflect frustrations with perceived inequities or entitlement among different socioeconomic groups. Topic 4 indicates property demand and market exploitation using strong emotionally charged terms like \"fuck,\" signal anger over rising prices and exploitative practices."
      ],
      "metadata": {
        "id": "M24tvgYsSeVC"
      }
    },
    {
      "cell_type": "code",
      "source": [
        "nltk.download('vader_lexicon')\n",
        "sia = SentimentIntensityAnalyzer()"
      ],
      "metadata": {
        "id": "ubA7f0dXDJo2"
      },
      "execution_count": null,
      "outputs": []
    },
    {
      "cell_type": "code",
      "source": [
        "# Apply sentiment analysis directly to lemmatized_text and create sentiment_score column\n",
        "comments_df['sentiment_score'] = comments_df['lemmatized_text'].apply(\n",
        "    lambda text: sia.polarity_scores(text)['compound']\n",
        ")\n",
        "\n",
        "sorted_results = comments_df[['parent_id', 'author', 'lemmatized_text', 'score', 'sentiment_score', 'date']].sort_values(\n",
        "    by='sentiment_score', ascending=False\n",
        ")\n",
        "\n",
        "sorted_results"
      ],
      "metadata": {
        "collapsed": true,
        "id": "mVeduC72LEJG"
      },
      "execution_count": null,
      "outputs": []
    },
    {
      "cell_type": "code",
      "source": [
        "# Group the text data by sentiment score\n",
        "positive_text_data = sorted_results[sorted_results['sentiment_score'] > 0.5]['lemmatized_text']\n",
        "negative_text_data = sorted_results[sorted_results['sentiment_score'] < -0.5]['lemmatized_text']\n",
        "neutral_text_data = sorted_results[(sorted_results['sentiment_score'] >= -0.5) & (sorted_results['sentiment_score'] <= 0.5)]['lemmatized_text']"
      ],
      "metadata": {
        "id": "7L-kwmxJPyfg"
      },
      "execution_count": null,
      "outputs": []
    },
    {
      "cell_type": "code",
      "source": [
        "# Display counts for each category\n",
        "print(f\"Positive Comments: {len(positive_text_data)}\")\n",
        "print(f\"Negative Comments: {len(negative_text_data)}\")\n",
        "print(f\"Neutral Comments: {len(neutral_text_data)}\")"
      ],
      "metadata": {
        "id": "XZpxKqxuQ0Oc"
      },
      "execution_count": null,
      "outputs": []
    },
    {
      "cell_type": "code",
      "source": [
        "# Create the pie chart\n",
        "labels = ['Positive Comments', 'Negative Comments', 'Neutral Comments']\n",
        "sizes = [48, 30, 82]\n",
        "colors = ['#FF9898FF', '#D9636CFF', '#A91E45FF']\n",
        "explode = (0, 0.1, 0)\n",
        "\n",
        "plt.figure(figsize=(8, 6))\n",
        "plt.pie(sizes, labels=labels, autopct='%1.1f%%', startangle=90, colors=colors, explode=explode)\n",
        "plt.title('Sentiment Analysis Results')\n",
        "plt.show()"
      ],
      "metadata": {
        "id": "5pesJE4zdz-G"
      },
      "execution_count": null,
      "outputs": []
    },
    {
      "cell_type": "code",
      "source": [
        "# Convert positive text data into a list for topic modeling\n",
        "positive_training_data = positive_text_data.dropna().tolist()\n",
        "\n",
        "# Initialize the LDA model\n",
        "num_topics = 5\n",
        "num_topic_words = 10\n",
        "model = tp.LDAModel(k=num_topics)\n",
        "\n",
        "# Add each document (positive comment) to the LDA model\n",
        "for text in positive_training_data:\n",
        "    model.add_doc(text.split())  # Split text into words\n",
        "\n",
        "# Train the model\n",
        "print(\"Topic Model Training for Positive Comments...\\n\\n\")\n",
        "iterations = 10\n",
        "for i in range(0, 100, iterations):\n",
        "    model.train(iterations)\n",
        "    print(f'Iteration: {i}\\tLog-likelihood: {model.ll_per_word}')\n",
        "\n",
        "# Display Topic Model Results\n",
        "print(\"\\nPositive Comments Topic Model Results:\\n\\n\")\n",
        "positive_topics = []\n",
        "for topic_number in range(num_topics):\n",
        "    topic_words = ' '.join(word for word, prob in model.get_topic_words(topic_id=topic_number, top_n=num_topic_words))\n",
        "    positive_topics.append(topic_words)\n",
        "    print(f\"✨ Topic {topic_number} ✨\\n\\n{topic_words}\\n\")"
      ],
      "metadata": {
        "id": "jN-yK9PVQ03G"
      },
      "execution_count": null,
      "outputs": []
    },
    {
      "cell_type": "code",
      "source": [
        "# Convert negative text data into a list for topic modeling\n",
        "negative_training_data = negative_text_data.dropna().tolist()\n",
        "\n",
        "# Initialize the LDA model\n",
        "num_topics = 5\n",
        "num_topic_words = 10\n",
        "model = tp.LDAModel(k=num_topics)\n",
        "\n",
        "# Add each document (negative comment) to the LDA model\n",
        "for text in negative_training_data:\n",
        "    model.add_doc(text.split())  # Split text into words\n",
        "\n",
        "# Train the model\n",
        "print(\"Topic Model Training for Negative Comments...\\n\\n\")\n",
        "iterations = 10\n",
        "for i in range(0, 100, iterations):  # Train in steps of 'iterations'\n",
        "    model.train(iterations)\n",
        "    print(f'Iteration: {i}\\tLog-likelihood: {model.ll_per_word}')\n",
        "\n",
        "# Display Topic Model Results\n",
        "print(\"\\nNegative Comments Topic Model Results:\\n\\n\")\n",
        "negative_topics = []\n",
        "for topic_number in range(num_topics):\n",
        "    topic_words = ' '.join(word for word, prob in model.get_topic_words(topic_id=topic_number, top_n=num_topic_words))\n",
        "    negative_topics.append(topic_words)\n",
        "    print(f\"✨ Topic {topic_number} ✨\\n\\n{topic_words}\\n\")"
      ],
      "metadata": {
        "id": "6U8LsosKRMG1"
      },
      "execution_count": null,
      "outputs": []
    },
    {
      "cell_type": "markdown",
      "source": [
        "**3.2.c Sentiment Analysis for Top scored comments**\n",
        "\n",
        "The sentiment analysis of the top 10 comments dominated by neutral and negative tones, reflecting a mix of skepticism and factual engagement with affordable housing issues. The Top scored comments wordcloud further emphasize issues of affordability, housing supply shortage and income disparity. Income, being the second largest, suggests that many comments revolve around how income levels impact housing affordability. This connects to broader issues like income disparity, wage stagnation, and AMI thresholds.\n"
      ],
      "metadata": {
        "id": "CIsRsquCSpk2"
      }
    },
    {
      "cell_type": "code",
      "source": [
        "# Step 1: Select the top 10 comments by Reddit score\n",
        "top10score_df = comments_df.nlargest(10, 'score')\n",
        "\n",
        "# Step 2: Categorize sentiment into Positive, Negative, and Neutral\n",
        "def categorize_sentiment(score):\n",
        "    if score > 0.5:\n",
        "        return 'Positive'\n",
        "    elif score < -0.5:\n",
        "        return 'Negative'\n",
        "    else:\n",
        "        return 'Neutral'\n",
        "\n",
        "# Step 3: Apply sentiment categorization\n",
        "top10score_df['sentiment'] = top10score_df['sentiment_score'].apply(categorize_sentiment)\n",
        "\n",
        "# Step 4: Count the number of comments in each sentiment category\n",
        "sentiment_counts = top10score_df['sentiment'].value_counts()\n",
        "\n",
        "# Step 5: Print the sentiment counts\n",
        "print(sentiment_counts)"
      ],
      "metadata": {
        "id": "Zu9eRraVStz2"
      },
      "execution_count": null,
      "outputs": []
    },
    {
      "cell_type": "code",
      "source": [
        "# Prepare data\n",
        "sentiment_counts = top10score_df['sentiment'].value_counts()\n",
        "\n",
        "# # Create the pie chart\n",
        "plt.figure(figsize=(8, 6))\n",
        "plt.pie(\n",
        "    sentiment_counts,\n",
        "    labels=sentiment_counts.index,\n",
        "    autopct='%1.1f%%',\n",
        "    startangle=140,\n",
        "    colors=['#FF9898FF', '#D9636CFF', '#A91E45FF']\n",
        ")\n",
        "plt.title('Sentiment Distribution in Top 10 Comments', fontsize=14)\n",
        "plt.axis('equal')\n",
        "plt.show()"
      ],
      "metadata": {
        "id": "4mA5s4EXTz1r"
      },
      "execution_count": null,
      "outputs": []
    },
    {
      "cell_type": "code",
      "source": [
        "from matplotlib.colors import LinearSegmentedColormap\n",
        "# Combine all text from the top 10 comments into a single string\n",
        "top10_text = ' '.join(top10score_df['lemmatized_text'].dropna())\n",
        "\n",
        "palette = ['#FF9898FF', '#D9636CFF', '#A91E45FF', '#691238FF', '#251714FF']\n",
        "custom_colormap = LinearSegmentedColormap.from_list(\"custom_palette\", palette)\n",
        "\n",
        "# Generate the word cloud\n",
        "wordcloud_top10 = WordCloud(\n",
        "    width=600,\n",
        "    height=300,\n",
        "    background_color='white',\n",
        "    colormap=custom_colormap,\n",
        "    max_words=100\n",
        ").generate(top10_text)\n",
        "\n",
        "plt.figure(figsize=(10, 5))\n",
        "plt.imshow(wordcloud_top10, interpolation='bilinear')\n",
        "plt.axis('off')\n",
        "plt.title(\"Word Cloud for Top 10 Comments\", fontsize=16)\n",
        "plt.show()"
      ],
      "metadata": {
        "id": "AS2yTjPqUCJW"
      },
      "execution_count": null,
      "outputs": []
    },
    {
      "cell_type": "code",
      "source": [
        "top10score_df"
      ],
      "metadata": {
        "id": "uOUz1RULU3YL"
      },
      "execution_count": null,
      "outputs": []
    },
    {
      "cell_type": "markdown",
      "source": [
        "## 3.3 Contextual Analysis of Keywords\n",
        "\n",
        "Last but not least, we focus on NYC-specific policy such as 421a and 485x to have a more zoomed-in analysis on public perception towards affordable housing policy. The context analysis highlights serial important findings.\n",
        "\n",
        "First being that property tax imbalances are a fundamental barrier, discussed in Comments 2, 3, and 4. Many commenters identify NYC’s high property taxes on large rental buildings as a core issue. Large multifamily rentals face tax rates “5–10x more than smaller units” and “2–3x of condos/co-ops,” making tax abatements essential for any rental construction.\n",
        "\n",
        "*-\t“The 421a/485x property tax abatement is just to somewhat lower the property tax burden so any building can be built.”*\n",
        "\n",
        "*-\t“Developers are so addicted to tax abatements, they are incapable of creating housing for almost anyone.”*\n",
        "\n",
        "\n",
        "Second being the fact that affordability calculation are unrealistics, which support our initial hypothesis. Tying affordability to the AMI, which includes wealthier suburban areas, leads to thresholds that are unaffordable for many NYC residents. This results in skepticism about the effectiveness of the programs.\n",
        "\n",
        "*-\tMost of the affordable units created are not affordable at all.”*\n",
        "\n",
        "Next, comments emphasize that NYC’s housing market is influenced by broader challenges dilute the impact of programs like 421a and 485x, including property tax disparities between rental properties and condos/co-ops, zoning restrictions, and market dynamics like Airbnb proliferation.  The comments suggests that fixing either 421a or 485x in isolation would have minimal impact because the broader housing system is broken.\n",
        "\n",
        "*-\t“Fixing just a single one of these will ultimately not fix much.”*\n",
        "\n",
        "One interesting finding the of political dynamics behind housing policies, detailed in Comments 2 and 4. Politicians are accused of imposing affordability mandates not to solve housing issues but to gain favor with anti-growth voters. These mandates are seen as poorly integrated and counterproductive.\n",
        "\n",
        "*-\t “Affordability % are tacked on by politicians to appease certain voters.”*\n",
        "\n",
        "These comments highlight a growing consensus that piecemeal fixes are insufficient without comprehensive reform."
      ],
      "metadata": {
        "id": "TqMfxouelOv8"
      }
    },
    {
      "cell_type": "code",
      "source": [
        "# Filter keywords \"421a\" or \"485x\"\n",
        "filtered_comments_df = comments_df[\n",
        "    comments_df['parent_text'].str.contains(\"421a\", case=False, na=False) |\n",
        "    comments_df['parent_text'].str.contains(\"485x\", case=False, na=False)\n",
        "]"
      ],
      "metadata": {
        "id": "qUnN8tHgEmJQ"
      },
      "execution_count": null,
      "outputs": []
    },
    {
      "cell_type": "code",
      "source": [
        "# Extract keyword contexts\n",
        "def extract_contexts(text, keywords, window=30):\n",
        "    words = nltk.word_tokenize(text.lower())\n",
        "    return [\" \".join(words[max(i - window, 0):min(i + window + 1, len(words))])\n",
        "            for i, word in enumerate(words) if word in keywords]\n",
        "\n",
        "keywords = [\"421a\", \"485x\"]\n",
        "contexts = [context for sublist in filtered_comments_df['parent_text'].apply(lambda x: extract_contexts(x, keywords)) for context in sublist]\n",
        "\n",
        "# Display contexts\n",
        "for context in contexts[:20]:\n",
        "    for keyword in keywords:\n",
        "        if keyword in context:\n",
        "            left, right = context.split(keyword, 1)\n",
        "            print(f\"{left[-100:]:>100} {keyword} {right[:100]:<100}\")\n",
        "            break"
      ],
      "metadata": {
        "id": "SiDtSwWTmaRt"
      },
      "execution_count": null,
      "outputs": []
    },
    {
      "cell_type": "code",
      "source": [
        "# Perform Sentiment Analysis on the filtered comments\n",
        "filtered_comments_df['sentiment'] = filtered_comments_df['parent_text'].apply(lambda x: sia.polarity_scores(x)['compound'])"
      ],
      "metadata": {
        "id": "UFQymQ5SnUBQ"
      },
      "execution_count": null,
      "outputs": []
    },
    {
      "cell_type": "code",
      "source": [
        "filtered_comments_df['sentiment_category'] = filtered_comments_df['sentiment'].apply(categorize_sentiment)\n",
        "\n",
        "# Sort the comments by sentiment score\n",
        "sorted_sentiments_df = filtered_comments_df.sort_values(by='score', ascending=False)\n",
        "\n",
        "sorted_sentiments_df[[\"parent_id\",'parent_text',\"score\", 'sentiment', 'sentiment_category',\"date\"]]"
      ],
      "metadata": {
        "id": "oSlYo9_ooYWi"
      },
      "execution_count": null,
      "outputs": []
    },
    {
      "cell_type": "markdown",
      "source": [
        "#Conclusion\n",
        "---\n",
        "\n",
        "This project examined public perceptions of why affordable housing is not truly affordable, focusing on systemic challenges like vague definitions, high costs, financing gaps, and supply shortages. Sentiment analysis and topic modeling reveal strong support for the hypothesis, especially the vague definition of \"affordability\" and negative impact of AMI (can up to 130% of AMI) that lowest-income residents from qualifying for housing assistance.\n",
        "\n",
        "Meanwhile, the results also highlighted seriel key matrics that hasn't been identified within the hypothesis but the public care the most. This includes:\n",
        "1. the critical role of property tax imbalances, which make large rental developments economically unviable without tax abatements, shifting developer focus to luxury or smaller-scale housing;\n",
        "2. the void political gestures with politicians imposing affordability mandates to gain favor with anti-growth voters.\n",
        "\n",
        "Several limitations and challenges in the analysis should be acknowledged. First, the informal nature of Reddit comments posed significant challenges in data preprocessing. Processes like data cleansing and lemmatization may inadvertently strip away important context, reducing the effectiveness of topic modeling and sentiment analysis compared to analyses conducted on more formal texts, such as newspapers or academic journals. Furthermore, a notable 51.2% of the discourse comprised neutral comments, potentially obscuring clear sentiment trends. Positive sentiments often included words like \"increase\" or \"change,\" which lack inherent emotional tone and can shift in sentiment depending on context—for example, \"increasing rents\" is negative for renters but could be neutral or positive for landlords.\n",
        "\n",
        "Another key limitation is the narrow scope of the dataset. Due to time constraints, the project focused on a single Reddit post, limiting dataset diversity and potentially failing to capture the broader emotional and thematic landscape surrounding the topic. To address these issues, future efforts should refine the sentiment analysis model, incorporating more advanced linguistic techniques to handle mixed sentiments, such as sarcasm or nuanced criticism. Additionally, expanding the dataset to include multiple discussions across various platforms and applying advanced natural language processing (NLP) methods could provide a more comprehensive and accurate representation of public attitudes on the topic.\n",
        "\n",
        "In summary, public perceptions reflect widespread criticism of affordable housing policies, driven by systemic failures and political missteps. Poliocy reforms must address public concerns in AMI thresholds,  tax disparities, and incentivize truly affordable developments. Comprehensive solutions, not piecemeal fixes, are essential to meet the community’s needs."
      ],
      "metadata": {
        "id": "uj1DVNHGcoD9"
      }
    },
    {
      "cell_type": "markdown",
      "source": [
        "#Bibliography\n",
        "\n",
        "Bibliography:\n",
        "Zaveri, M. (2024, November 27). A Housing Crisis Deepens, and a Reporter Digs In. The New York Times. Retrieved from https://www.nytimes.com/2024/11/27/nyregion/housing-reporter.html\n",
        "Zaveri, M. (2024, November 14). The Housing Crunch: Zoning in New York. The New York Times. Retrieved from https://www.nytimes.com/2024/11/14/nyregion/housing-crunch-zoning-new-york.html\n",
        "\n",
        "Reddit user. (2023, August 8). NYC has more housing than ever before, yet it’s still unaffordable. Reddit. Retrieved from https://www.reddit.com/r/nyc/comments/15lw93e/nyc_has_more_housing_than_ever_before_yet_its/\n",
        "\n",
        "Brooks, M. M. (2023). Measuring America’s affordability problem: Comparing alternative measurements of affordable housing. Housing Policy Debate, 33(6), 1293-1312. https://doi.org/10.1080/10511482.2021.2010119&#8203;.\n",
        "\n",
        "Büchler, S., & Lutz, E. (2024). Making housing affordable? The local effects of relaxing land-use regulation. Journal of Urban Economics, 143, Article 103689. https://doi.org/10.1016/j.jue.2024.103689&#8203;.\n",
        "\n",
        "Diamond, R., & McQuade, T. (2016). Who wants affordable housing in their backyard? An equilibrium analysis of low-income property development. NBER Working Paper Series. Working Paper 22204. National Bureau of Economic Research. https://doi.org/10.3386/w22204&#8203;.\n",
        "\n",
        "Vigneswaran, D., Truebestein, M., & Aepli, M. D. (2022). Affordable housing as a profitable impact investment: An international comparison of real estate strategies. Contributions to Finance and Accounting. Springer Nature. https://doi.org/10.1007/978-3-031-07091-4&#8203."
      ],
      "metadata": {
        "id": "c3gWNTsKSfRj"
      }
    }
  ]
}